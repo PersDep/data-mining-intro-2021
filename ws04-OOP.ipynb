{
 "cells": [
  {
   "cell_type": "markdown",
   "metadata": {},
   "source": [
    "## Семинар 4: объектно-ориентированное программирование в Python."
   ]
  },
  {
   "cell_type": "markdown",
   "metadata": {},
   "source": [
    "Бывает, что вам нужно написать программу, которую вы запустите один раз и которая просто должна решить некоторую задачу. В этом случае все средства хороши, и можно оформлять код так, как вам удобно. Есть и другая ситуация: вам надо запрограммировать что-то, что потом вы будете использовать много раз, а ещё этот код могут захотеть редактировать другие люди. Тут надо задуматься о правильном оформлении кода.\n",
    "\n",
    "В машинном обучении главное — это модели, их обучение, применение, подсчёт качества и прочие связанные операции. Допустим, вы собрались запрограммировать обучение и применение метода k ближайших соседей и выложить в открытый доступ. Тогда будет логично потребовать от вашего кода следующее:\n",
    "1. Вы можете что-то улучшить в нём, не поменяв логику работы, и это не сломает ничего у пользователей. Будет странно, если вы, скажем, замените циклы на векторные операции в numpy, опубликуете новую версию, и любой код, зависящий от вашего, перестанет работать. Ведь суть того, что делает ваш код, не поменялась!\n",
    "2. Достаточно легко можно сделать расширенные версии kNN на основе вашего кода — например, запрограммировать kNN с весами.\n",
    "3. От пользователей скрыты все детали вашей реализации — чтобы пользоваться вашим кодом для kNN, им не нужно вникать, как вы храните данные, как ищете ближайших соседей и т.д. Они просто вызывают нужные функции, и всё работает.\n",
    "\n",
    "Объектно-ориентированное программирование (ООП) — это подход к организации кода, который (наверное) лучше всего подходит для оформления операций из машинного обучения. В его основе лежат классы и объекты, а также три важных свойства: инкапсуляция, наследование и полиморфизм. Ниже мы разберёмся со всем этим. \n",
    "\n",
    "Программист может создать класс, своеобразный чертёж, который будет определять поведение объектов этого класса: какие данные они могут хранить и какой код исполнять. После этого можно создавать объекты класса с ожидаемым поведением.\n",
    "\n",
    "Поломать голову над формальными определениями ООП можно [на вики](https://ru.wikipedia.org/wiki/%D0%9E%D0%B1%D1%8A%D0%B5%D0%BA%D1%82%D0%BD%D0%BE-%D0%BE%D1%80%D0%B8%D0%B5%D0%BD%D1%82%D0%B8%D1%80%D0%BE%D0%B2%D0%B0%D0%BD%D0%BD%D0%BE%D0%B5_%D0%BF%D1%80%D0%BE%D0%B3%D1%80%D0%B0%D0%BC%D0%BC%D0%B8%D1%80%D0%BE%D0%B2%D0%B0%D0%BD%D0%B8%D0%B5)."
   ]
  },
  {
   "cell_type": "markdown",
   "metadata": {},
   "source": [
    "Оглавление:\n",
    "* [Как создать класс](#Как-создать-класс)\n",
    "* [Методы](#Методы)\n",
    "* [Атрибуты класса и метод `__init__`](#Атрибуты-класса-и-метод-__init__)\n",
    "* [Magic методы](#Magic-методы)\n",
    "* [Копирование](#Копирование)\n",
    "* [getter, setter](#getter,-setter)\n",
    "* [`@staticmethod`](#@staticmethod)\n",
    "* [`@classmethod`](#@classmethod)\n",
    "* [Наследование, `super()`](#Наследование,-super())\n",
    "* [ABC — Abstract Base Classes](#ABC-—-Abstract-Base-Classes)\n",
    "* [Datacasses](#Dataclasses)\n",
    "\n",
    "<a name=\"introduction\"></a>"
   ]
  },
  {
   "cell_type": "markdown",
   "metadata": {},
   "source": [
    "### Как создать класс"
   ]
  },
  {
   "cell_type": "markdown",
   "metadata": {},
   "source": [
    "Класс в питоне создаётся специальной конструкцией `class`. Экземпляр (объект, instance) класса создаётся вызовом класса со скобками."
   ]
  },
  {
   "cell_type": "code",
   "execution_count": 1,
   "metadata": {},
   "outputs": [
    {
     "data": {
      "text/plain": [
       "<__main__.DummyClass at 0x7fdb70a70710>"
      ]
     },
     "execution_count": 1,
     "metadata": {},
     "output_type": "execute_result"
    }
   ],
   "source": [
    "class DummyClass:\n",
    "    pass\n",
    "\n",
    "\n",
    "dummy_object = DummyClass()\n",
    "\n",
    "dummy_object"
   ]
  },
  {
   "cell_type": "markdown",
   "metadata": {},
   "source": [
    "Названия классов в питоне пишутся CamelCase, названия функций/объектов/переменных snake_case."
   ]
  },
  {
   "cell_type": "markdown",
   "metadata": {},
   "source": [
    "### Методы"
   ]
  },
  {
   "cell_type": "markdown",
   "metadata": {},
   "source": [
    "Классы могут определять функции, которые можно будет вызывать от их объектов. Такие функции называются методами. В любом (почти) методе первым аргументом является self. В него будет передан сам объект, от которого вызывается метод.\n",
    "\n",
    "Наш класс не особо полезен, так как ничего не делает. Давайте напишем класс с методом. Вызов методов происходит через оператор `.`"
   ]
  },
  {
   "cell_type": "code",
   "execution_count": 2,
   "metadata": {},
   "outputs": [
    {
     "name": "stdout",
     "output_type": "stream",
     "text": [
      "ЗАПУСКАЕМ\n",
      "░ГУСЯ░▄▀▀▀▄░РАБОТЯГИ░░\n",
      "▄███▀░◐░░░▌░░░░░░░\n",
      "░░░░▌░░░░░▐░░░░░░░\n",
      "░░░░▐░░░░░▐░░░░░░░\n",
      "░░░░▌░░░░░▐▄▄░░░░░\n",
      "░░░░▌░░░░▄▀▒▒▀▀▀▀▄\n",
      "░░░▐░░░░▐▒▒▒▒▒▒▒▒▀▀▄\n",
      "░░░▐░░░░▐▄▒▒▒▒▒▒▒▒▒▒▀▄\n",
      "░░░░▀▄░░░░▀▄▒▒▒▒▒▒▒▒▒▒▀▄\n",
      "░░░░░░▀▄▄▄▄▄█▄▄▄▄▄▄▄▄▄▄▄▀▄\n",
      "░░░░░░░░░░░▌▌▌▌░░░░░\n",
      "░░░░░░░░░░░▌▌░▌▌░░░░░\n",
      "░░░░░░░░░▄▄▌▌▄▌▌░░░░░\n",
      "запускаем гуся работяги\n"
     ]
    }
   ],
   "source": [
    "GOOSE = \"\"\"ЗАПУСКАЕМ\n",
    "░ГУСЯ░▄▀▀▀▄░РАБОТЯГИ░░\n",
    "▄███▀░◐░░░▌░░░░░░░\n",
    "░░░░▌░░░░░▐░░░░░░░\n",
    "░░░░▐░░░░░▐░░░░░░░\n",
    "░░░░▌░░░░░▐▄▄░░░░░\n",
    "░░░░▌░░░░▄▀▒▒▀▀▀▀▄\n",
    "░░░▐░░░░▐▒▒▒▒▒▒▒▒▀▀▄\n",
    "░░░▐░░░░▐▄▒▒▒▒▒▒▒▒▒▒▀▄\n",
    "░░░░▀▄░░░░▀▄▒▒▒▒▒▒▒▒▒▒▀▄\n",
    "░░░░░░▀▄▄▄▄▄█▄▄▄▄▄▄▄▄▄▄▄▀▄\n",
    "░░░░░░░░░░░▌▌▌▌░░░░░\n",
    "░░░░░░░░░░░▌▌░▌▌░░░░░\n",
    "░░░░░░░░░▄▄▌▌▄▌▌░░░░░\n",
    "запускаем гуся работяги\"\"\"\n",
    "\n",
    "class GoosePrinter:\n",
    "    def print_goose(self) -> None:\n",
    "        print(GOOSE)\n",
    "\n",
    "        \n",
    "goose_printer = GoosePrinter()\n",
    "\n",
    "goose_printer.print_goose()"
   ]
  },
  {
   "cell_type": "markdown",
   "metadata": {},
   "source": [
    "Обратите внимание, что мы вызвали метод без аргументов, хотя в сигнатуре есть аргумент `self`. `self` подаётся \"автоматически\"."
   ]
  },
  {
   "cell_type": "markdown",
   "metadata": {},
   "source": [
    "**NB:** первый аргумент можно назвать как угодно, не обязательно `self`. Но не нужно."
   ]
  },
  {
   "cell_type": "markdown",
   "metadata": {},
   "source": [
    "### Атрибуты класса и метод `__init__`"
   ]
  },
  {
   "cell_type": "markdown",
   "metadata": {},
   "source": [
    "Помимо методов у объектов класса могут быть атрибуты &mdash; переменные. К ним так же можно обращаться через `.`, а создавать внутри класса их как раз можно при помощи вышеупомянутого `self`.\n",
    "\n",
    "Любой класс может определить метод `__init__` &mdash; конструктор: он выполняется при создании объекта класса, а его аргументы передаются в скобках после названия класса во время создания. Обычно именно в нём и задаются атрибуты класса.\n",
    "\n",
    "Давайте напишем класс целочисленной точки на плоскости, объекты которого будут уметь выводить свои координаты:"
   ]
  },
  {
   "cell_type": "code",
   "execution_count": 3,
   "metadata": {},
   "outputs": [
    {
     "name": "stdout",
     "output_type": "stream",
     "text": [
      "(3, 5)\n"
     ]
    }
   ],
   "source": [
    "class Point2D:\n",
    "    \"\"\"\n",
    "    A point in 2D space\n",
    "    :param x: x coordinate\n",
    "    :param y: y coordinate\n",
    "    \"\"\"\n",
    "    def __init__(self, x: int, y: int) -> None:\n",
    "        # Создаём атрибуты и присваиваем им переданные значения координат\n",
    "        self.x = x\n",
    "        self.y = y\n",
    "        \n",
    "    def print_coords(self) -> None:\n",
    "        # Выводим координаты, обращаясь к ним через self с точкой\n",
    "        print(f\"({self.x}, {self.y})\")\n",
    "        \n",
    "        \n",
    "point = Point2D(3, 5)\n",
    "point.print_coords()"
   ]
  },
  {
   "cell_type": "markdown",
   "metadata": {},
   "source": [
    "Мы задаём координаты в конструкторе, присваивая их `self` через точку, и потом можем использовать их в методе."
   ]
  },
  {
   "cell_type": "markdown",
   "metadata": {},
   "source": [
    "### Magic методы"
   ]
  },
  {
   "cell_type": "markdown",
   "metadata": {},
   "source": [
    "В питоне у классов могут быть так называемые магические методы. Это методы, которые может определить класс, которые позволяют ему действовать определённым образом. Обычно они не вызываются напрямую.\n",
    "\n",
    "Все магические методы отличаются тем, что их названия начинаются и заканчиваются на двойные подчёркивания (`__method__`). С одним таким мы уже познакомились &mdash; это метод `__init__`, который вызывается при создании объекта класса. Давайте посмотрим, какие ещё бывают магические методы:"
   ]
  },
  {
   "cell_type": "markdown",
   "metadata": {},
   "source": [
    "#### \\_\\_str\\_\\_ и \\_\\_repr\\_\\_ [(Документация)](https://docs.python.org/3/reference/datamodel.html#object.__repr__)"
   ]
  },
  {
   "cell_type": "markdown",
   "metadata": {},
   "source": [
    "Методы `__str__` и `__repr__` позволяют добавить текстовое описание к объекту класса. Они возвращают строку, описывающую объект.\n",
    "\n",
    "Метод `__str__` должен возвращать строку, описывающую объект простым, понятным, читаемым образом, а метод `__repr__` предназаначен больше для дебага и должен возвращать всю информацию об объекте, а его вывод должен в идеале быть исполняемым кодом, с помощью которого можно было бы создать такой же объект.\n",
    "\n",
    "Метод `__str__` вызывается, например, когда мы принтим объект или берём `str` от него (например, `str(point)`).\n",
    "Метод `__repr__` вызывается, например, когда мы просто выводим объект в консоли или берём `repr` от него.\n",
    "Если `__str__` не определён, по дефолту его роль будет играть `__repr__`.\n",
    "\n",
    "Давайте избавимся от метода `print_coords` и добавим нашим точкам хорошее форматирование:"
   ]
  },
  {
   "cell_type": "code",
   "execution_count": 4,
   "metadata": {},
   "outputs": [
    {
     "name": "stdout",
     "output_type": "stream",
     "text": [
      "Некрасивая точка: <__main__.Point2D object at 0x7fdb70211850>\n",
      "A 2D point with coordinates (5, 5)\n"
     ]
    },
    {
     "data": {
      "text/plain": [
       "Point2D(3, 4)"
      ]
     },
     "execution_count": 4,
     "metadata": {},
     "output_type": "execute_result"
    }
   ],
   "source": [
    "# Для начала убедимся, что по дефолту наши точки не умеют красиво печататься:\n",
    "print(f\"Некрасивая точка: {Point2D(5, 5)}\")\n",
    "\n",
    "class Point2D:\n",
    "    \"\"\"\n",
    "    A point in 2D space\n",
    "    :param x: x coordinate\n",
    "    :param y: y coordinate\n",
    "    \"\"\"\n",
    "    def __init__(self, x: int, y: int) -> None:\n",
    "        # Создаём атрибуты и присваиваем им переданные значения координат\n",
    "        self.x = x\n",
    "        self.y = y\n",
    "        \n",
    "    def __repr__(self) -> str:\n",
    "        return f\"Point2D({self.x}, {self.y})\"\n",
    "    \n",
    "    def __str__(self) -> str:\n",
    "        return f\"A 2D point with coordinates ({self.x}, {self.y})\"\n",
    "\n",
    "# Посмотрим, что у нас есть теперь:\n",
    "print(Point2D(5, 5))\n",
    "Point2D(3, 4)"
   ]
  },
  {
   "cell_type": "markdown",
   "metadata": {},
   "source": [
    "Обратите внимание, что `__str__` вызвался, когда мы запринтили объект, а `__repr__`, когда мы вывели его в конце ячейки."
   ]
  },
  {
   "cell_type": "markdown",
   "metadata": {},
   "source": [
    "#### \\_\\_add\\_\\_, \\_\\_sub\\_\\_, \\_\\_mul\\_\\_, \\_\\_truediv\\_\\_, etc. [(Документация)](https://docs.python.org/3/reference/datamodel.html#emulating-numeric-types)"
   ]
  },
  {
   "cell_type": "markdown",
   "metadata": {},
   "source": [
    "Методы `__add__`, `__sub__`, `__mul__`, `__truediv__` позовляют добавить классу функционал сложения, вычитания, умножения, деления и так далее, (операторы `+`, `-`, `*`, `/`, etc.). Они вызываются от левого операнда и применяются к правому, возвращая результат. Давайте научим наши точки складываться и вычитаться:"
   ]
  },
  {
   "cell_type": "code",
   "execution_count": 5,
   "metadata": {},
   "outputs": [
    {
     "name": "stdout",
     "output_type": "stream",
     "text": [
      "A 2D point with coordinates (7, 12)\n",
      "A 2D point with coordinates (-1, -2)\n"
     ]
    }
   ],
   "source": [
    "class Point2D:\n",
    "    \"\"\"\n",
    "    A point in 2D space\n",
    "    :param x: x coordinate\n",
    "    :param y: y coordinate\n",
    "    \"\"\"\n",
    "    def __init__(self, x: int, y: int) -> None:\n",
    "        # Создаём атрибуты и присваиваем им переданные значения координат\n",
    "        self.x = x\n",
    "        self.y = y\n",
    "        \n",
    "    def __repr__(self) -> str:\n",
    "        return f\"Point2D({self.x}, {self.y})\"\n",
    "    \n",
    "    def __str__(self) -> str:\n",
    "        return f\"A 2D point with coordinates ({self.x}, {self.y})\"\n",
    "        \n",
    "    def __add__(self, other: Point2D) -> Point2D:\n",
    "        return Point2D(self.x + other.x, self.y + other.y)\n",
    "    \n",
    "    def __sub__(self, other: Point2D) -> Point2D:\n",
    "        return Point2D(self.x - other.x, self.y - other.y)\n",
    "\n",
    "\n",
    "print(Point2D(3, 5) + Point2D(4, 7))\n",
    "print(Point2D(3, 5) - Point2D(4, 7))"
   ]
  },
  {
   "cell_type": "markdown",
   "metadata": {},
   "source": [
    "У каждого из вышеописанных методов есть так же версия \"i\" в начале, отвечающая за операцию с присвоением (`__iadd__` &mdash; `+=`, `__isub__` &mdash; `-=`, etc.)\n",
    "\n",
    "В принципе, операции с присовением будут работать и так, питон сам выведет их из обычных операций. Но на самом деле они не будут модифицировать объект in-place, а будут возвращать новый объект и присваивать его переменной:"
   ]
  },
  {
   "cell_type": "code",
   "execution_count": 6,
   "metadata": {},
   "outputs": [
    {
     "name": "stdout",
     "output_type": "stream",
     "text": [
      "140580455787344\n",
      "140580455784720\n",
      "A 2D point with coordinates (4, 4)\n"
     ]
    }
   ],
   "source": [
    "a = Point2D(3, 3)\n",
    "print(id(a))\n",
    "\n",
    "a += Point2D(1, 1)\n",
    "print(id(a))\n",
    "print(a)"
   ]
  },
  {
   "cell_type": "markdown",
   "metadata": {},
   "source": [
    "В данном случае это скорее правильное поведение, но давайте для практики добавим в наш класс эти методы:"
   ]
  },
  {
   "cell_type": "code",
   "execution_count": 7,
   "metadata": {},
   "outputs": [],
   "source": [
    "class Point2D:\n",
    "    \"\"\"\n",
    "    A point in 2D space\n",
    "    :param x: x coordinate\n",
    "    :param y: y coordinate\n",
    "    \"\"\"\n",
    "    def __init__(self, x: int, y: int) -> None:\n",
    "        # Создаём атрибуты и присваиваем им переданные значения координат\n",
    "        self.x = x\n",
    "        self.y = y\n",
    "        \n",
    "    def __repr__(self) -> str:\n",
    "        return f\"Point2D({self.x}, {self.y})\"\n",
    "    \n",
    "    def __str__(self) -> str:\n",
    "        return f\"A 2D point with coordinates ({self.x}, {self.y})\"\n",
    "        \n",
    "    def __add__(self, other: Point2D) -> Point2D:\n",
    "        return Point2D(self.x + other.x, self.y + other.y)\n",
    "    \n",
    "    def __sub__(self, other: Point2D) -> Point2D:\n",
    "        return Point2D(self.x - other.x, self.y - other.y)\n",
    "    \n",
    "    def __iadd__(self, other: Point2D) -> Point2D:\n",
    "        self.x += other.x\n",
    "        self.y += other.y\n",
    "        return self\n",
    "    \n",
    "    def __isub__(self, other: Point2D) -> Point2D:\n",
    "        self.x -= other.x\n",
    "        self.y -= other.y\n",
    "        return self"
   ]
  },
  {
   "cell_type": "code",
   "execution_count": 8,
   "metadata": {},
   "outputs": [
    {
     "name": "stdout",
     "output_type": "stream",
     "text": [
      "140580455781584\n",
      "140580455781584\n",
      "A 2D point with coordinates (4, 4)\n"
     ]
    }
   ],
   "source": [
    "a = Point2D(3, 3)\n",
    "print(id(a))\n",
    "\n",
    "a += Point2D(1, 1)\n",
    "print(id(a))\n",
    "print(a)"
   ]
  },
  {
   "cell_type": "markdown",
   "metadata": {},
   "source": [
    "Теперь при использовании `+=` мы остаёмся с тем же объектом."
   ]
  },
  {
   "cell_type": "markdown",
   "metadata": {},
   "source": [
    "#### \\_\\_eq\\_\\_, \\_\\_ne\\_\\_, \\_\\_lt\\_\\_, \\_\\_le\\_\\_, \\_\\_gt\\_\\_, \\_\\_ge\\_\\_,  [(Документация)](https://docs.python.org/3/reference/datamodel.html#object.__lt__)"
   ]
  },
  {
   "cell_type": "markdown",
   "metadata": {},
   "source": [
    "По умолчанию объекты классов в питоне не имеют порядка и сравниваются на равенство при помощи `is`.\n",
    "Таким образом, две точки будут равны друг другу только тогда когда они представляют один и тот же объект в памяти: "
   ]
  },
  {
   "cell_type": "code",
   "execution_count": 9,
   "metadata": {},
   "outputs": [
    {
     "data": {
      "text/plain": [
       "(False, True)"
      ]
     },
     "execution_count": 9,
     "metadata": {},
     "output_type": "execute_result"
    }
   ],
   "source": [
    "a = Point2D(1, 1)\n",
    "b = Point2D(1, 1)\n",
    "\n",
    "a == b, a == a"
   ]
  },
  {
   "cell_type": "markdown",
   "metadata": {},
   "source": [
    "Методы `__eq__`, `__ne__`, `__lt__`, `__le__`, `__gt__`, `__ge__` позволяют задать правила сравнения для объектов класса.\n",
    "\n",
    "Давайте научим наши точки сравниваться:"
   ]
  },
  {
   "cell_type": "code",
   "execution_count": 10,
   "metadata": {},
   "outputs": [
    {
     "name": "stdout",
     "output_type": "stream",
     "text": [
      "True\n",
      "False\n",
      "False\n",
      "True\n"
     ]
    }
   ],
   "source": [
    "class Point2D:\n",
    "    \"\"\"\n",
    "    A point in 2D space\n",
    "    :param x: x coordinate\n",
    "    :param y: y coordinate\n",
    "    \"\"\"\n",
    "    def __init__(self, x: int, y: int) -> None:\n",
    "        # Создаём атрибуты и присваиваем им переданные значения координат\n",
    "        self.x = x\n",
    "        self.y = y\n",
    "        \n",
    "    def __repr__(self) -> str:\n",
    "        return f\"Point2D({self.x}, {self.y})\"\n",
    "    \n",
    "    def __str__(self) -> str:\n",
    "        return f\"A 2D point with coordinates ({self.x}, {self.y})\"\n",
    "        \n",
    "    def __add__(self, other: Point2D) -> Point2D:\n",
    "        return Point2D(self.x + other.x, self.y + other.y)\n",
    "    \n",
    "    def __sub__(self, other: Point2D) -> Point2D:\n",
    "        return Point2D(self.x - other.x, self.y - other.y)\n",
    "    \n",
    "    def __iadd__(self, other: Point2D) -> Point2D:\n",
    "        self.x += other.x\n",
    "        self.y += other.y\n",
    "        return self\n",
    "    \n",
    "    def __isub__(self, other: Point2D) -> Point2D:\n",
    "        self.x -= other.x\n",
    "        self.y -= other.y\n",
    "        return self\n",
    "    \n",
    "    def __eq__(self, other: Point2D) -> Point2D:\n",
    "        return self.x == other.x and self.y == other.y\n",
    "\n",
    "print(Point2D(1, 1) == Point2D(1, 1))\n",
    "print(Point2D(1, 1) != Point2D(1, 1))\n",
    "print(Point2D(1, 1) == Point2D(1, 2))\n",
    "print(Point2D(1, 1) != Point2D(1, 2))"
   ]
  },
  {
   "cell_type": "markdown",
   "metadata": {},
   "source": [
    "Обратите внимание, что когда мы определили `__eq__` (==) для сравнения, `__ne__` (!=) вывелся автоматически. Однако, это исключение. Если мы, например, определим ещё и `__gt__` (>), операция `__le__` (<=) сама не выведется. \n",
    "\n",
    "**NB**: Если вам хочется написать одну операцию, чтобы остальные вывелись автоматически, используйте декоратор [`functools.total_ordering`](https://docs.python.org/3/library/functools.html#functools.total_ordering)\n",
    "\n",
    "\n"
   ]
  },
  {
   "cell_type": "markdown",
   "metadata": {},
   "source": [
    " "
   ]
  },
  {
   "cell_type": "markdown",
   "metadata": {},
   "source": [
    "Кроме описанных в питоне есть ещё великое множество магических методов, которые способны осуществить примерно любое поведение, которое вы видели в питоне. Все их можно посмотреть [в документации](https://docs.python.org/3/reference/datamodel.html#special-method-names) или нагуглить.\n",
    "\n",
    "Из полезных можно отметить:\n",
    "* `__new__` и `__del__` &mdash; создание и удаление объекта.\n",
    "* `__len__` &mdash; возвращение длины объекта (например, контейнера). Используется функцией `len`.\n",
    "* `__getitem__`, `__setitem__` &mdash; индексация квадратными скобками.\n",
    "* `__getattr__`, `__setattr__` &mdash; обращение к атрибутам по точке.\n",
    "* `__iter__` &mdash; возвращает итератор, проходящий по объекту. Используется, например, for.\n",
    "* `__nonzero__` &mdash; определяет поведение функции `bool` на объекте.\n",
    "* `__contains__` &mdash; определяет поведение оператора `in` (полезно для контейнеров) \n",
    "* `__call__` &mdash; вызывается, когда объект класса вызывается со скобками (как функция). Позволяет сделать объекты класса callable.\n",
    "* `__copy__`, `__deepcopy__` &mdash; определяют, как объект класса копируется."
   ]
  },
  {
   "cell_type": "markdown",
   "metadata": {},
   "source": [
    "### Копирование"
   ]
  },
  {
   "cell_type": "markdown",
   "metadata": {},
   "source": [
    "Переменные в питоне всегда хранят ссылку на объект.  Если мы присвоим объект нашего класса двум разным переменным, они обе будут хранить один и тот же объект и \"меняться\" вместе:"
   ]
  },
  {
   "cell_type": "code",
   "execution_count": 11,
   "metadata": {},
   "outputs": [
    {
     "name": "stdout",
     "output_type": "stream",
     "text": [
      "A 2D point with coordinates (3, 4)\n",
      "A 2D point with coordinates (-1, 4)\n"
     ]
    }
   ],
   "source": [
    "a = Point2D(3, 4)\n",
    "print(a)\n",
    "\n",
    "b = a\n",
    "b.x = -1\n",
    "\n",
    "print(a)"
   ]
  },
  {
   "cell_type": "markdown",
   "metadata": {},
   "source": [
    "Мы поменяли значение в переменной `b`, но значение в `a` тоже поменялось, потому что они ссылаются на один и тот же объект.\n",
    "\n",
    "Чтобы избежать этого недоразумения в питоне существует модуль `copy` и соответствующая функция:"
   ]
  },
  {
   "cell_type": "code",
   "execution_count": 12,
   "metadata": {},
   "outputs": [
    {
     "name": "stdout",
     "output_type": "stream",
     "text": [
      "A 2D point with coordinates (3, 4)\n",
      "A 2D point with coordinates (3, 4)\n"
     ]
    }
   ],
   "source": [
    "import copy\n",
    "\n",
    "a = Point2D(3, 4)\n",
    "print(a)\n",
    "\n",
    "b = copy.copy(a)\n",
    "b.x = -1\n",
    "\n",
    "print(a)"
   ]
  },
  {
   "cell_type": "markdown",
   "metadata": {},
   "source": [
    "Однако и это не спасёт нас, если в объекте нашего класса снова хранятся изменяемые переменные (например, списки). В таком случае нам понадобится функция `deepcopy`, которая полностью скопирует как сам объект класса, так и всё внутри него, по сути действуя рекурсивно.\n",
    "\n",
    "Продемонстрируем это на новом классе `Student`:"
   ]
  },
  {
   "cell_type": "code",
   "execution_count": 13,
   "metadata": {},
   "outputs": [
    {
     "name": "stdout",
     "output_type": "stream",
     "text": [
      "До изменений\n",
      "Student('Ваня', ['Линал', 'Алгосы', 'Машинное обучение'])\n",
      "\n",
      "Изменения в deepcopy\n",
      "Student('Катя', ['Матан', 'Алгосы', 'Машинное обучение'])\n",
      "Student('Ваня', ['Линал', 'Алгосы', 'Машинное обучение'])\n",
      "\n",
      "Изменения в copy\n",
      "Student('Лиза', ['Экономика', 'Алгосы', 'Машинное обучение'])\n",
      "Student('Ваня', ['Экономика', 'Алгосы', 'Машинное обучение'])\n",
      "\n",
      "Изменения в простом присваивании\n",
      "Student('Лёша', ['Алгебра', 'Алгосы', 'Машинное обучение'])\n",
      "Student('Лёша', ['Алгебра', 'Алгосы', 'Машинное обучение'])\n"
     ]
    }
   ],
   "source": [
    "from typing import Iterable\n",
    "import copy\n",
    "\n",
    "class Student:\n",
    "    \"\"\"\n",
    "    A class representing student along with his name and classes he/she takes\n",
    "    :param name: name of the student\n",
    "    :param classes: iterable of strings with names of classes\n",
    "    \"\"\"\n",
    "    def __init__(self, name: str, classes: Iterable[str]) -> None:\n",
    "        self.name = name\n",
    "        self.classes = classes\n",
    "    \n",
    "    def __repr__(self) -> str:\n",
    "        return f\"Student({repr(self.name)}, {repr(self.classes)})\"\n",
    "    \n",
    "student = Student(\"Ваня\", [\"Линал\", \"Алгосы\", \"Машинное обучение\"])\n",
    "student_deepcopy = copy.deepcopy(student)\n",
    "student_copy = copy.copy(student)\n",
    "student_naive = student\n",
    "\n",
    "# Распечатаем студента\n",
    "print(\"До изменений\")\n",
    "print(student)\n",
    "\n",
    "student_deepcopy.name = \"Катя\"\n",
    "student_deepcopy.classes[0] = \"Матан\"\n",
    "print(\"\\nИзменения в deepcopy\")\n",
    "print(f\"{student_deepcopy}\")\n",
    "print(f\"{student}\")\n",
    "\n",
    "student_copy.name = \"Лиза\"\n",
    "student_copy.classes[0] = \"Экономика\"\n",
    "print(\"\\nИзменения в copy\")\n",
    "print(f\"{student_copy}\")\n",
    "print(f\"{student}\")\n",
    "\n",
    "student_naive.name = \"Лёша\"\n",
    "student_naive.classes[0] = \"Алгебра\"\n",
    "print(\"\\nИзменения в простом присваивании\")\n",
    "print(f\"{student_naive}\")\n",
    "print(f\"{student}\")"
   ]
  },
  {
   "cell_type": "markdown",
   "metadata": {},
   "source": [
    "Как видим, если мы используем просто `copy`, имя студента действительно не меняется в изначальной переменной `student`, потому что соответствующий атрибут `name` был скопирован. А вот список дисциплин меняется, потому что `copy` скопировал в новый объект **ссылку** на этот список, и мы обращаемся к ней из обоих студентов. `deepcopy` позволяет избежать этой проблемы, потому что он создаст новый список."
   ]
  },
  {
   "cell_type": "markdown",
   "metadata": {},
   "source": [
    "### getter, setter"
   ]
  },
  {
   "cell_type": "markdown",
   "metadata": {},
   "source": [
    "Иногда нам хочется, чтобы чтение или установка атрибута объекта сопровождались какой-нибудь логикой, будь то проверка или ещё что. Предположим, мы создаём класс градусника:"
   ]
  },
  {
   "cell_type": "code",
   "execution_count": 14,
   "metadata": {},
   "outputs": [],
   "source": [
    "class Thermometer:\n",
    "    \"\"\"\n",
    "    Thermometer containing temperature in Celsius \n",
    "    :param temperature: temperature to contain\n",
    "    \"\"\"\n",
    "    def __init__(self, temperature: float) -> None:\n",
    "        self.temperature = temperature"
   ]
  },
  {
   "cell_type": "markdown",
   "metadata": {},
   "source": [
    "У такого класса есть проблема: мы можем присовить ему температуру ниже возможного минимума:"
   ]
  },
  {
   "cell_type": "code",
   "execution_count": 15,
   "metadata": {},
   "outputs": [],
   "source": [
    "thermometer = Thermometer(10.)\n",
    "thermometer.temperature = -100000."
   ]
  },
  {
   "cell_type": "markdown",
   "metadata": {},
   "source": [
    "Мы могли бы решить эту проблему, добавив специальную функцию set_temperature, и сказав, что установка температуры должна происходить только через неё:"
   ]
  },
  {
   "cell_type": "code",
   "execution_count": 16,
   "metadata": {
    "scrolled": true
   },
   "outputs": [
    {
     "ename": "ValueError",
     "evalue": "Temperature cannot be less than -273.15",
     "output_type": "error",
     "traceback": [
      "\u001b[0;31m---------------------------------------------------------------------------\u001b[0m",
      "\u001b[0;31mValueError\u001b[0m                                Traceback (most recent call last)",
      "\u001b[0;32m<ipython-input-16-e2949a69ff40>\u001b[0m in \u001b[0;36m<module>\u001b[0;34m\u001b[0m\n\u001b[1;32m     14\u001b[0m \u001b[0;34m\u001b[0m\u001b[0m\n\u001b[1;32m     15\u001b[0m \u001b[0mthermometer\u001b[0m \u001b[0;34m=\u001b[0m \u001b[0mThermometer\u001b[0m\u001b[0;34m(\u001b[0m\u001b[0;36m10.\u001b[0m\u001b[0;34m)\u001b[0m\u001b[0;34m\u001b[0m\u001b[0;34m\u001b[0m\u001b[0m\n\u001b[0;32m---> 16\u001b[0;31m \u001b[0mthermometer\u001b[0m\u001b[0;34m.\u001b[0m\u001b[0mset_temperature\u001b[0m\u001b[0;34m(\u001b[0m\u001b[0;34m-\u001b[0m\u001b[0;36m100000.\u001b[0m\u001b[0;34m)\u001b[0m\u001b[0;34m\u001b[0m\u001b[0;34m\u001b[0m\u001b[0m\n\u001b[0m",
      "\u001b[0;32m<ipython-input-16-e2949a69ff40>\u001b[0m in \u001b[0;36mset_temperature\u001b[0;34m(self, value)\u001b[0m\n\u001b[1;32m     10\u001b[0m     \u001b[0;32mdef\u001b[0m \u001b[0mset_temperature\u001b[0m\u001b[0;34m(\u001b[0m\u001b[0mself\u001b[0m\u001b[0;34m,\u001b[0m \u001b[0mvalue\u001b[0m\u001b[0;34m:\u001b[0m \u001b[0mfloat\u001b[0m\u001b[0;34m)\u001b[0m \u001b[0;34m->\u001b[0m \u001b[0;32mNone\u001b[0m\u001b[0;34m:\u001b[0m\u001b[0;34m\u001b[0m\u001b[0;34m\u001b[0m\u001b[0m\n\u001b[1;32m     11\u001b[0m         \u001b[0;32mif\u001b[0m \u001b[0mvalue\u001b[0m \u001b[0;34m<\u001b[0m \u001b[0mThermometer\u001b[0m\u001b[0;34m.\u001b[0m\u001b[0mMINIMAL_TEMPERATURE\u001b[0m\u001b[0;34m:\u001b[0m\u001b[0;34m\u001b[0m\u001b[0;34m\u001b[0m\u001b[0m\n\u001b[0;32m---> 12\u001b[0;31m             \u001b[0;32mraise\u001b[0m \u001b[0mValueError\u001b[0m\u001b[0;34m(\u001b[0m\u001b[0;34mf\"Temperature cannot be less than {Thermometer.MINIMAL_TEMPERATURE}\"\u001b[0m\u001b[0;34m)\u001b[0m\u001b[0;34m\u001b[0m\u001b[0;34m\u001b[0m\u001b[0m\n\u001b[0m\u001b[1;32m     13\u001b[0m         \u001b[0mself\u001b[0m\u001b[0;34m.\u001b[0m\u001b[0mtemperature\u001b[0m \u001b[0;34m=\u001b[0m \u001b[0mvalue\u001b[0m\u001b[0;34m\u001b[0m\u001b[0;34m\u001b[0m\u001b[0m\n\u001b[1;32m     14\u001b[0m \u001b[0;34m\u001b[0m\u001b[0m\n",
      "\u001b[0;31mValueError\u001b[0m: Temperature cannot be less than -273.15"
     ]
    }
   ],
   "source": [
    "class Thermometer:\n",
    "    \"\"\"\n",
    "    Thermometer containing temperature in Celsius \n",
    "    :param temperature: temperature to contain\n",
    "    \"\"\"\n",
    "    MINIMAL_TEMPERATURE = -273.15\n",
    "    def __init__(self, temperature: float) -> None:\n",
    "        self.set_temperature(temperature)\n",
    "        \n",
    "    def set_temperature(self, value: float) -> None:\n",
    "        if value < Thermometer.MINIMAL_TEMPERATURE: \n",
    "            raise ValueError(f\"Temperature cannot be less than {Thermometer.MINIMAL_TEMPERATURE}\")\n",
    "        self.temperature = value\n",
    "        \n",
    "thermometer = Thermometer(10.)\n",
    "thermometer.set_temperature(-100000.)"
   ]
  },
  {
   "cell_type": "markdown",
   "metadata": {},
   "source": [
    "С таким решением, во-первых, мы теряем удобное присвивание по имени атрибута, а во-вторых, весь код, который до этого использовал temperature напрямую теперь будет работать неправильно"
   ]
  },
  {
   "cell_type": "markdown",
   "metadata": {},
   "source": [
    "Чтобы избежать этих проблем в python есть декоратор `@property`: он позволяет превратить функцию в атрибут и определить поведение при установке и чтения атрибута:"
   ]
  },
  {
   "cell_type": "code",
   "execution_count": 17,
   "metadata": {},
   "outputs": [
    {
     "ename": "ValueError",
     "evalue": "Temperature cannot be less than -273.15",
     "output_type": "error",
     "traceback": [
      "\u001b[0;31m---------------------------------------------------------------------------\u001b[0m",
      "\u001b[0;31mValueError\u001b[0m                                Traceback (most recent call last)",
      "\u001b[0;32m<ipython-input-17-83570b9dd6cb>\u001b[0m in \u001b[0;36m<module>\u001b[0;34m\u001b[0m\n\u001b[1;32m     19\u001b[0m \u001b[0;34m\u001b[0m\u001b[0m\n\u001b[1;32m     20\u001b[0m \u001b[0mthermometer\u001b[0m \u001b[0;34m=\u001b[0m \u001b[0mThermometer\u001b[0m\u001b[0;34m(\u001b[0m\u001b[0;36m10.\u001b[0m\u001b[0;34m)\u001b[0m\u001b[0;34m\u001b[0m\u001b[0;34m\u001b[0m\u001b[0m\n\u001b[0;32m---> 21\u001b[0;31m \u001b[0mthermometer\u001b[0m\u001b[0;34m.\u001b[0m\u001b[0mtemperature\u001b[0m \u001b[0;34m=\u001b[0m \u001b[0;34m-\u001b[0m\u001b[0;36m100000.\u001b[0m\u001b[0;34m\u001b[0m\u001b[0;34m\u001b[0m\u001b[0m\n\u001b[0m",
      "\u001b[0;32m<ipython-input-17-83570b9dd6cb>\u001b[0m in \u001b[0;36mtemperature\u001b[0;34m(self, value)\u001b[0m\n\u001b[1;32m     15\u001b[0m     \u001b[0;32mdef\u001b[0m \u001b[0mtemperature\u001b[0m\u001b[0;34m(\u001b[0m\u001b[0mself\u001b[0m\u001b[0;34m,\u001b[0m \u001b[0mvalue\u001b[0m\u001b[0;34m:\u001b[0m \u001b[0mfloat\u001b[0m\u001b[0;34m)\u001b[0m \u001b[0;34m->\u001b[0m \u001b[0;32mNone\u001b[0m\u001b[0;34m:\u001b[0m\u001b[0;34m\u001b[0m\u001b[0;34m\u001b[0m\u001b[0m\n\u001b[1;32m     16\u001b[0m         \u001b[0;32mif\u001b[0m \u001b[0mvalue\u001b[0m \u001b[0;34m<\u001b[0m \u001b[0mThermometer\u001b[0m\u001b[0;34m.\u001b[0m\u001b[0mMINIMAL_TEMPERATURE\u001b[0m\u001b[0;34m:\u001b[0m\u001b[0;34m\u001b[0m\u001b[0;34m\u001b[0m\u001b[0m\n\u001b[0;32m---> 17\u001b[0;31m             \u001b[0;32mraise\u001b[0m \u001b[0mValueError\u001b[0m\u001b[0;34m(\u001b[0m\u001b[0;34mf\"Temperature cannot be less than {Thermometer.MINIMAL_TEMPERATURE}\"\u001b[0m\u001b[0;34m)\u001b[0m\u001b[0;34m\u001b[0m\u001b[0;34m\u001b[0m\u001b[0m\n\u001b[0m\u001b[1;32m     18\u001b[0m         \u001b[0mself\u001b[0m\u001b[0;34m.\u001b[0m\u001b[0m_temperature\u001b[0m \u001b[0;34m=\u001b[0m \u001b[0mvalue\u001b[0m\u001b[0;34m\u001b[0m\u001b[0;34m\u001b[0m\u001b[0m\n\u001b[1;32m     19\u001b[0m \u001b[0;34m\u001b[0m\u001b[0m\n",
      "\u001b[0;31mValueError\u001b[0m: Temperature cannot be less than -273.15"
     ]
    }
   ],
   "source": [
    "class Thermometer:\n",
    "    \"\"\"\n",
    "    Thermometer containing temperature in Celsius \n",
    "    :param temperature: temperature to contain\n",
    "    \"\"\"\n",
    "    MINIMAL_TEMPERATURE = -273.15\n",
    "    def __init__(self, temperature: float) -> None:\n",
    "        self.temperature = temperature\n",
    "    \n",
    "    @property\n",
    "    def temperature(self) -> float:\n",
    "        return self._temperature\n",
    "    \n",
    "    @temperature.setter\n",
    "    def temperature(self, value: float) -> None:\n",
    "        if value < Thermometer.MINIMAL_TEMPERATURE: \n",
    "            raise ValueError(f\"Temperature cannot be less than {Thermometer.MINIMAL_TEMPERATURE}\")\n",
    "        self._temperature = value\n",
    "        \n",
    "thermometer = Thermometer(10.)\n",
    "thermometer.temperature = -100000."
   ]
  },
  {
   "cell_type": "markdown",
   "metadata": {},
   "source": [
    "Разберёмся, как это работает. Во-первых, теперь мы будем хранить нашу реальную температуру в переменной `self._temperature`. \n",
    "Обращение к этой переменной не будет влечь за собой никакой другой логики, но присваивать ей температуру мы будем только внутри класса, а пользователь снаружи не будет о ней ничего знать и не должен к ней обращаться.\n",
    "\n",
    "**NB:** Подчёркивание в начале названия атрибута или метода &mdash; это стандартное в питоне обозначение части внутреннего интерфейса класса. Разработчик не обещает, что этот интерфейс не будет меняться в будущих версиях, и пользователь не должен его использовать. Причём сам питон никак не запрещает обращаться к таким атрибутам и методам, просто программисты соблюдают некоторое джентльменское соглашение (цитата из документации)\n",
    "\n",
    "Сначала мы создаём функцию с названием нашего атрибута (в нашем случае `def temperature`) с декоратором `@property` и в ней возвращаем наше реальное значение температуры (`return self._temperature`). Теперь, когда мы будем обращаться к `thermometer.temperature` будет вызываться эта функция.\n",
    "\n",
    "Затем мы создаём ещё одну функцию с тем же названием, но теперь с декоратором `@temperature.setter`, в которой проверяем наше условие и присваиваем новое значение нашей внутренней переменной `self._temperature`. Эта функция будет вызываться, когда мы будем присваивать значение `thermometer.temperature`."
   ]
  },
  {
   "cell_type": "markdown",
   "metadata": {},
   "source": [
    "### `@staticmethod`"
   ]
  },
  {
   "cell_type": "markdown",
   "metadata": {},
   "source": [
    "Иногда метод объекта никак не использует его атрибуты (не обращается к self), а просто выполняет независимую логику. В таком случае такой метод называется статическим. Мы можем использовать на нём специальный декоратор `@staticmethod`, и тогда мы помимо прочего сможем вызывать его, даже не создавая объект"
   ]
  },
  {
   "cell_type": "markdown",
   "metadata": {},
   "source": [
    "Попробуем это на примере нашего термометра. Предположим, мы хотим научить его вычислять выдавать температуру в градусах по Фаренгейту. В таком случае нам следует определить метод `get_fahrenheit` и хорошо бы вынести сам перевод в отдельный метод `celsius_to_fahrenheit`:"
   ]
  },
  {
   "cell_type": "code",
   "execution_count": 18,
   "metadata": {},
   "outputs": [
    {
     "name": "stdout",
     "output_type": "stream",
     "text": [
      "10.0 градусов по Цельсию равны 50.0 градусов по Фаренгейту\n"
     ]
    }
   ],
   "source": [
    "class Thermometer:\n",
    "    \"\"\"\n",
    "    Thermometer containing temperature in Celsius \n",
    "    :param temperature: temperature to contain\n",
    "    \"\"\"\n",
    "    MINIMAL_TEMPERATURE = -273.15\n",
    "    def __init__(self, temperature: float) -> None:\n",
    "        self.temperature = temperature\n",
    "    \n",
    "    @property\n",
    "    def temperature(self) -> float:\n",
    "        return self._temperature\n",
    "    \n",
    "    @temperature.setter\n",
    "    def temperature(self, value: float) -> None:\n",
    "        if value < Thermometer.MINIMAL_TEMPERATURE: \n",
    "            raise ValueError(f\"Temperature cannot be less than {Thermometer.MINIMAL_TEMPERATURE}\")\n",
    "        self._temperature = value\n",
    "        \n",
    "    def celsius_to_fahrenheit(self, value) -> float:\n",
    "        return value * 1.8 + 32\n",
    "        \n",
    "    def get_fahrenheit(self) -> float:\n",
    "        return self.celsius_to_fahrenheit(self.temperature)\n",
    "        \n",
    "thermometer = Thermometer(10.)\n",
    "print(f\"{thermometer.temperature} градусов по Цельсию равны {thermometer.get_fahrenheit()} градусов по Фаренгейту\")"
   ]
  },
  {
   "cell_type": "markdown",
   "metadata": {},
   "source": [
    "Наша функция `celsius_to_fahrenheit` просто переводит температуру, которую получает на вход. Она никак не использует `self`. Давайте сделаем её статическим методом."
   ]
  },
  {
   "cell_type": "code",
   "execution_count": 19,
   "metadata": {},
   "outputs": [
    {
     "name": "stdout",
     "output_type": "stream",
     "text": [
      "10.0 градусов по Цельсию равны 50.0 градусов по Фаренгейту\n"
     ]
    }
   ],
   "source": [
    "class Thermometer:\n",
    "    \"\"\"\n",
    "    Thermometer containing temperature in Celsius \n",
    "    :param temperature: temperature to contain\n",
    "    \"\"\"\n",
    "    MINIMAL_TEMPERATURE = -273.15\n",
    "    def __init__(self, temperature: float) -> None:\n",
    "        self.temperature = temperature\n",
    "    \n",
    "    @property\n",
    "    def temperature(self) -> float:\n",
    "        return self._temperature\n",
    "    \n",
    "    @temperature.setter\n",
    "    def temperature(self, value: float) -> None:\n",
    "        if value < Thermometer.MINIMAL_TEMPERATURE: \n",
    "            raise ValueError(f\"Temperature cannot be less than {Thermometer.MINIMAL_TEMPERATURE}\")\n",
    "        self._temperature = value\n",
    "        \n",
    "    @staticmethod\n",
    "    def celsius_to_fahrenheit(value) -> float:\n",
    "        return value * 1.8 + 32\n",
    "        \n",
    "    def get_fahrenheit(self) -> float:\n",
    "        return self.celsius_to_fahrenheit(self.temperature)\n",
    "        \n",
    "thermometer = Thermometer(10.)\n",
    "print(f\"{thermometer.temperature} градусов по Цельсию равны {thermometer.get_fahrenheit()} градусов по Фаренгейту\")"
   ]
  },
  {
   "cell_type": "markdown",
   "metadata": {},
   "source": [
    "Обратите внимание, что мы всё так же можем вызывать функцию от объекта класса (как, например, от `self` в `get_fahrenheit`). Но так же теперь мы можем вызывать её и от самого класса:"
   ]
  },
  {
   "cell_type": "code",
   "execution_count": 20,
   "metadata": {},
   "outputs": [
    {
     "data": {
      "text/plain": [
       "50.0"
      ]
     },
     "execution_count": 20,
     "metadata": {},
     "output_type": "execute_result"
    }
   ],
   "source": [
    "Thermometer.celsius_to_fahrenheit(10.)"
   ]
  },
  {
   "cell_type": "markdown",
   "metadata": {},
   "source": [
    "### `@classmethod`"
   ]
  },
  {
   "cell_type": "markdown",
   "metadata": {},
   "source": [
    "Бывает и другая ситуация. Когда метод не использует атрибуты объекта (не обращается к `self`), но использует знание о том, из какого класса он вызывается. Такой метод называется методом класса и мы можем обозначить его декоратором `@classmethod`. Метод с декоратором `@classmethod` принимает в качестве первого аргумента не объект класса (`self`), а сам класс (`cls`). "
   ]
  },
  {
   "cell_type": "markdown",
   "metadata": {},
   "source": [
    "Предположим, мы хотим уметь создавать наш термометр сразу из температуры по Фаренгейту. Но наш `__init__` принимает температуру в градусах Цельсия. Создадим новый метод класса `from_fahrenheit`, который будет переводить полученную температуру из Фаренгейта в Цельсии (при помощи нового статического метода `fahrenheit_to_celsius` и возвращать новый объект класса:"
   ]
  },
  {
   "cell_type": "code",
   "execution_count": 21,
   "metadata": {},
   "outputs": [],
   "source": [
    "class Thermometer:\n",
    "    \"\"\"\n",
    "    Thermometer containing temperature in Celsius \n",
    "    :param temperature: temperature to contain\n",
    "    \"\"\"\n",
    "    MINIMAL_TEMPERATURE = -273.15\n",
    "    def __init__(self, temperature: float) -> None:\n",
    "        self.temperature = temperature\n",
    "    \n",
    "    @property\n",
    "    def temperature(self) -> float:\n",
    "        return self._temperature\n",
    "    \n",
    "    @temperature.setter\n",
    "    def temperature(self, value: float) -> None:\n",
    "        if value < Thermometer.MINIMAL_TEMPERATURE: \n",
    "            raise ValueError(f\"Temperature cannot be less than {Thermometer.MINIMAL_TEMPERATURE}\")\n",
    "        self._temperature = value\n",
    "        \n",
    "    @staticmethod\n",
    "    def celsius_to_fahrenheit(value) -> float:\n",
    "        return value * 1.8 + 32\n",
    "    \n",
    "    @staticmethod\n",
    "    def fahrenheit_to_celsius(value) -> float:\n",
    "        return (value - 32) / 1.8\n",
    "        \n",
    "    def get_fahrenheit(self) -> float:\n",
    "        return self.celsius_to_fahrenheit(self.temperature)\n",
    "    \n",
    "    @classmethod\n",
    "    def from_fahrenheit(cls, temperature_fahrenheit) -> Thermometer:\n",
    "        temperature_celsius = cls.fahrenheit_to_celsius(temperature_fahrenheit)\n",
    "        return cls(temperature_celsius)"
   ]
  },
  {
   "cell_type": "markdown",
   "metadata": {},
   "source": [
    "Теперь мы можем создать термометер из градусов по Фаренгейту:"
   ]
  },
  {
   "cell_type": "code",
   "execution_count": 22,
   "metadata": {},
   "outputs": [
    {
     "name": "stdout",
     "output_type": "stream",
     "text": [
      "10.0 градусов по Цельсию равны 50.0 градусов по Фаренгейту\n"
     ]
    }
   ],
   "source": [
    "thermometer = Thermometer.from_fahrenheit(50)\n",
    "print(f\"{thermometer.temperature} градусов по Цельсию равны {thermometer.get_fahrenheit()} градусов по Фаренгейту\")"
   ]
  },
  {
   "cell_type": "markdown",
   "metadata": {},
   "source": [
    "### Наследование, `super()`"
   ]
  },
  {
   "cell_type": "markdown",
   "metadata": {},
   "source": [
    "Одним из главных механизмов ООП является наследование. Класс может отнаследоваться от другого класса, тем самым получая доступ к его методам и атрибутам. Класс-ребёнок может добавлять свои новые методы и переопределять методы класса-родителя, но так же может использовать и все методы, определённые в классе родителе."
   ]
  },
  {
   "cell_type": "markdown",
   "metadata": {},
   "source": [
    "Родительский класс в питоне указывается в скобках после названия класса во время объявления: `class Children(Parent)`. Причём один класс может быть ребёнком сразу нескольких классов. В таком случае они перечисляются через запятую."
   ]
  },
  {
   "cell_type": "markdown",
   "metadata": {},
   "source": [
    "Попробуем создать общий класс `Person`, который будет иметь атрибут `name` и сможет представляться при помощи метода `introduce`:"
   ]
  },
  {
   "cell_type": "code",
   "execution_count": 23,
   "metadata": {},
   "outputs": [
    {
     "name": "stdout",
     "output_type": "stream",
     "text": [
      "Hello, my name is Dima\n",
      "A person named Dima\n"
     ]
    }
   ],
   "source": [
    "class Person:\n",
    "    \"\"\"\n",
    "    A class representing a person with a name that can introduce himself\n",
    "    :param name: the name of the person\n",
    "    \"\"\"\n",
    "    def __init__(self, name: str) -> None:\n",
    "        self.name = name\n",
    "        \n",
    "    def introduce(self) -> None:\n",
    "        print(f\"Hello, my name is {self.name}\")\n",
    "        \n",
    "    def __str__(self) -> str:\n",
    "        return f\"A person named {self.name}\"\n",
    "    \n",
    "person = Person(\"Dima\")\n",
    "person.introduce()\n",
    "print(person)"
   ]
  },
  {
   "cell_type": "markdown",
   "metadata": {},
   "source": [
    "Теперь создадим подклассы Teacher и Student. Помимо имени у преподавателя будет поле `discipline`, а у студента поле `marks`:"
   ]
  },
  {
   "cell_type": "code",
   "execution_count": 24,
   "metadata": {
    "scrolled": true
   },
   "outputs": [
    {
     "name": "stdout",
     "output_type": "stream",
     "text": [
      "Hello, my name is Evgeny\n",
      "A teacher named Evgeny who teaches Machine Learning\n",
      "\n",
      "Hello, my name is Liza\n",
      "A student named Liza with marks {'Calculus': 5, 'Machine Learning': 10}\n"
     ]
    }
   ],
   "source": [
    "from typing import Dict\n",
    "\n",
    "class Teacher(Person):\n",
    "    \"\"\"\n",
    "    A class representing a teacher with his discipline\n",
    "    :param name: the name of the teacher\n",
    "    :param discipline: the discipline taught by the teacher \n",
    "    \"\"\"\n",
    "    def __init__(self, name: str, discipline: str) -> None:\n",
    "        super().__init__(name)  # Вызываем __init__ класса-родителя\n",
    "        self.discipline = discipline\n",
    "        \n",
    "    def __str__(self) -> str:\n",
    "        return f\"A teacher named {self.name} who teaches {self.discipline}\"\n",
    "\n",
    "\n",
    "class Student(Person):\n",
    "    \"\"\"\n",
    "    A class representing a student and his marks\n",
    "    :param name: the name of the student\n",
    "    :param marks: a dict of disciplines as keys and marks as values\n",
    "    \"\"\"\n",
    "    def __init__(self, name: str, marks: Dict[str, int]) -> None:\n",
    "        super().__init__(name)  # Вызываем __init__ класса-родителя\n",
    "        self.marks = marks\n",
    "        \n",
    "    def __str__(self) -> str:\n",
    "        return f\"A student named {self.name} with marks {self.marks}\"\n",
    "    \n",
    "teacher = Teacher(\"Evgeny\", \"Machine Learning\")\n",
    "teacher.introduce()\n",
    "print(teacher)\n",
    "print()\n",
    "\n",
    "student = Student(\"Liza\", {\"Calculus\": 5, \"Machine Learning\": 10})\n",
    "student.introduce()\n",
    "print(student)"
   ]
  },
  {
   "cell_type": "markdown",
   "metadata": {},
   "source": [
    "Теперь любой код, который использует метод `introduce` может работать как с классом `Person`, так и с классами `Teacher` и `Student`. \n",
    "\n",
    "И в то же время, ни в одном из этих классов мы не прописывали функцию `introduce`, потому что она уже есть в родительском классе `Person`, так что мы избежали дублирования кода и объединили объекты со схожей логикой между собой."
   ]
  },
  {
   "cell_type": "markdown",
   "metadata": {},
   "source": [
    "Стоит обратить особое внимание на оператор `super()`. Все методы, вызывающиеся от `super()`, будут вызваны от родительского класса (классов) объекта. Таким образом, когда мы вызываем `super().__init__(name)` в классах `Teacher` и `Student` мы выполняем код из метода `__init__` родительского класса `Person`: `self.name = name`, то есть определяем в объекте атрибут `name`. А затем уже мы добавляем новые атрибуты. Если функция `__init__` в родительском классе как-то поменяется, у нас ничего не сломается, и эти изменения будут использоваться и в дочерних классах.\n",
    "\n",
    "Так же следует обратить внимание на то, что метод `__str__` определён как в родительсом классе `Person`, так и в дочерних `Teacher` и `Student`. Таким образом, дочерние классы переопределяют этот метод, и при вызове `print` или `str` от объектов дочерних классов будет вызыван их метод `__str__`, а не родительский."
   ]
  },
  {
   "cell_type": "markdown",
   "metadata": {},
   "source": [
    "Мы могли бы использовать `super()` и не только в `__init__`, например, чтобы расширить функционал представления:"
   ]
  },
  {
   "cell_type": "code",
   "execution_count": 25,
   "metadata": {},
   "outputs": [
    {
     "name": "stdout",
     "output_type": "stream",
     "text": [
      "Hello, my name is Evgeny\n",
      "I teach Machine Learning\n"
     ]
    }
   ],
   "source": [
    "class Teacher(Person):\n",
    "    \"\"\"\n",
    "    A class representing a teacher with his discipline\n",
    "    :param name: the name of the teacher\n",
    "    :param discipline: the discipline taught by the teacher \n",
    "    \"\"\"\n",
    "    def __init__(self, name: str, discipline: str) -> None:\n",
    "        super().__init__(name)  # Вызываем __init__ класса-родителя\n",
    "        self.discipline = discipline\n",
    "        \n",
    "    def introduce(self) -> None:\n",
    "        super().introduce()\n",
    "        print(f\"I teach {self.discipline}\")\n",
    "        \n",
    "    def __str__(self) -> str:\n",
    "        return f\"A teacher named {self.name} who teaches {self.discipline}\"\n",
    "    \n",
    "teacher = Teacher(\"Evgeny\", \"Machine Learning\")\n",
    "teacher.introduce()"
   ]
  },
  {
   "cell_type": "markdown",
   "metadata": {},
   "source": [
    "Кроме того мы могли бы определить в дочерних классах совершенно новые методы, которых нет в классе-родителе:"
   ]
  },
  {
   "cell_type": "code",
   "execution_count": 26,
   "metadata": {},
   "outputs": [
    {
     "name": "stdout",
     "output_type": "stream",
     "text": [
      "Hello, my name is Liza\n",
      "Failed disciplines: {'Calculus': 3}\n"
     ]
    }
   ],
   "source": [
    "class Student(Person):\n",
    "    \"\"\"\n",
    "    A class representing a student and his marks\n",
    "    :param name: the name of the student\n",
    "    :param marks: a dict of disciplines as keys and marks as values\n",
    "    \"\"\"\n",
    "    def __init__(self, name: str, marks: Dict[str, int]) -> None:\n",
    "        super().__init__(name)  # Вызываем __init__ класса-родителя\n",
    "        self.marks = marks\n",
    "        \n",
    "    def __str__(self) -> str:\n",
    "        return f\"A student named {self.name} with marks {self.marks}\"\n",
    "    \n",
    "    def get_fails(self) -> Dict[str, int]:\n",
    "        \"\"\"\n",
    "        Gets failed disciplines\n",
    "        \"\"\"\n",
    "        return {discipline: mark for discipline, mark in self.marks.items() if mark < 4}\n",
    "    \n",
    "student = Student(\"Liza\", {\"Calculus\": 3, \"Machine Learning\": 10})\n",
    "student.introduce()\n",
    "print(f\"Failed disciplines: {student.get_fails()}\")"
   ]
  },
  {
   "cell_type": "markdown",
   "metadata": {},
   "source": [
    "Мы разобрали очень простой пример наследования. На практике деревья наследования могут быть очень большими, один класс может иметь множество детей и множество родителей. В таких случаях может стать непонятно, в каком именно порядке питон обходит родителей класса, чтобы понять, чью реализацию того или иного метода использовать.\n",
    "\n",
    "Чтобы посмотреть этот порядок можно использовать атрибут **класса** `__mro__` (Method Resolution Order):"
   ]
  },
  {
   "cell_type": "code",
   "execution_count": 27,
   "metadata": {},
   "outputs": [
    {
     "data": {
      "text/plain": [
       "(__main__.Student, __main__.Person, object)"
      ]
     },
     "execution_count": 27,
     "metadata": {},
     "output_type": "execute_result"
    }
   ],
   "source": [
    "Student.__mro__"
   ]
  },
  {
   "cell_type": "markdown",
   "metadata": {},
   "source": [
    "Мы видим, что если мы попытаемся вызвать у объекта класса `Student`, например, метод `introduce`, то сначала питон попытается найти его реализацию в самом классе `Student`. Если там её не окажется, он попробует класс `Person`, а если и там нет, то родительский класс всех классов `object`. (А если и там нет, то выдаст `AttributeError`)\n",
    "\n",
    "Подробнее про то, как именно питон определяет этот порядок, можно почитать, например, [тут](https://habr.com/ru/post/62203/)."
   ]
  },
  {
   "cell_type": "markdown",
   "metadata": {},
   "source": [
    "### ABC &mdash; Abstract Base Classes"
   ]
  },
  {
   "cell_type": "markdown",
   "metadata": {},
   "source": [
    "Бывает так, что мы хотим обозначить какой-то список методов, которые должны реализовывать все классы одного семейства, но не можем предоставить дефолтной реализации для этих методов. Например, нам нужно написать код, который вычислял бы сумму площадей или периметров списка фигур, но для каждого типа фигуры эти величины вычисляются по-своему, а всё же хотелось бы как-то объединить их всех в один родительский класс и показать, какими методами должна обладать фигура.\n",
    "\n",
    "В таком случае нам на помощь приходит модуль `abc` и декоратор `@abstractmethod`. Если мы отнаследуем наш класс от класса `abc.ABC` и добавим к методам декоратор `@abc.abstractmethod`, все классы, наследующиеся от нашего будут обязаны объявить эти методы, а иначе питон выдаст ошибку.\n",
    "\n",
    "Давайте поробуем:"
   ]
  },
  {
   "cell_type": "code",
   "execution_count": 28,
   "metadata": {},
   "outputs": [],
   "source": [
    "import abc\n",
    "\n",
    "class Shape(abc.ABC):\n",
    "    \"\"\"\n",
    "    Shape class capable of calculating its area and perimeter\n",
    "    \"\"\"\n",
    "    @abc.abstractmethod\n",
    "    def get_area(self) -> float:\n",
    "        \"\"\"\n",
    "        Method for getting the area of the shape\n",
    "        \"\"\"\n",
    "        pass\n",
    "    \n",
    "    @abc.abstractmethod\n",
    "    def get_perimeter(self) -> float:\n",
    "        \"\"\"\n",
    "        Method for getting the perimeter of the shape\n",
    "        \"\"\"\n",
    "        pass"
   ]
  },
  {
   "cell_type": "markdown",
   "metadata": {},
   "source": [
    "Попробуем создать класс, который наследуется от `Shape`, но не реализует эти методы:"
   ]
  },
  {
   "cell_type": "code",
   "execution_count": 29,
   "metadata": {},
   "outputs": [
    {
     "ename": "TypeError",
     "evalue": "Can't instantiate abstract class BadShape with abstract methods get_area, get_perimeter",
     "output_type": "error",
     "traceback": [
      "\u001b[0;31m---------------------------------------------------------------------------\u001b[0m",
      "\u001b[0;31mTypeError\u001b[0m                                 Traceback (most recent call last)",
      "\u001b[0;32m<ipython-input-29-4f2613e4892b>\u001b[0m in \u001b[0;36m<module>\u001b[0;34m\u001b[0m\n\u001b[1;32m      2\u001b[0m     \u001b[0;32mpass\u001b[0m\u001b[0;34m\u001b[0m\u001b[0;34m\u001b[0m\u001b[0m\n\u001b[1;32m      3\u001b[0m \u001b[0;34m\u001b[0m\u001b[0m\n\u001b[0;32m----> 4\u001b[0;31m \u001b[0mbad_shape\u001b[0m \u001b[0;34m=\u001b[0m \u001b[0mBadShape\u001b[0m\u001b[0;34m(\u001b[0m\u001b[0;34m)\u001b[0m\u001b[0;34m\u001b[0m\u001b[0;34m\u001b[0m\u001b[0m\n\u001b[0m",
      "\u001b[0;31mTypeError\u001b[0m: Can't instantiate abstract class BadShape with abstract methods get_area, get_perimeter"
     ]
    }
   ],
   "source": [
    "class BadShape(Shape):\n",
    "    pass\n",
    "\n",
    "bad_shape = BadShape()"
   ]
  },
  {
   "cell_type": "markdown",
   "metadata": {},
   "source": [
    "Как видим питон не дал нам создать объект такого класса (но сам класс создать дал!)\n",
    "\n",
    "Так же мы не сможем создать объект самого абстрактного класса `Shape`:"
   ]
  },
  {
   "cell_type": "code",
   "execution_count": 30,
   "metadata": {},
   "outputs": [
    {
     "ename": "TypeError",
     "evalue": "Can't instantiate abstract class Shape with abstract methods get_area, get_perimeter",
     "output_type": "error",
     "traceback": [
      "\u001b[0;31m---------------------------------------------------------------------------\u001b[0m",
      "\u001b[0;31mTypeError\u001b[0m                                 Traceback (most recent call last)",
      "\u001b[0;32m<ipython-input-30-935910247ce1>\u001b[0m in \u001b[0;36m<module>\u001b[0;34m\u001b[0m\n\u001b[0;32m----> 1\u001b[0;31m \u001b[0mshape\u001b[0m \u001b[0;34m=\u001b[0m \u001b[0mShape\u001b[0m\u001b[0;34m(\u001b[0m\u001b[0;34m)\u001b[0m\u001b[0;34m\u001b[0m\u001b[0;34m\u001b[0m\u001b[0m\n\u001b[0m",
      "\u001b[0;31mTypeError\u001b[0m: Can't instantiate abstract class Shape with abstract methods get_area, get_perimeter"
     ]
    }
   ],
   "source": [
    "shape = Shape()"
   ]
  },
  {
   "cell_type": "markdown",
   "metadata": {},
   "source": [
    "Теперь реализуем нормальные фигуры:"
   ]
  },
  {
   "cell_type": "code",
   "execution_count": 31,
   "metadata": {},
   "outputs": [],
   "source": [
    "import math\n",
    "\n",
    "class Circle(Shape):\n",
    "    \"\"\"\n",
    "    A circle with a some radius\n",
    "    \"\"\"\n",
    "    def __init__(self, radius: float) -> None:\n",
    "        self.radius = radius\n",
    "        \n",
    "    def get_area(self) -> float:\n",
    "        return math.pi * self.radius ** 2\n",
    "    \n",
    "    def get_perimeter(self) -> float:\n",
    "        return 2 * math.pi * self.radius\n",
    "    \n",
    "    \n",
    "class Rectangle(Shape):\n",
    "    \"\"\"\n",
    "    A rectangle with some width and height\n",
    "    \"\"\"\n",
    "    def __init__(self, width: float, height: float) -> None:\n",
    "        self.width = width\n",
    "        self.height = height\n",
    "        \n",
    "    def get_area(self) -> float:\n",
    "        return self.width * self.height\n",
    "    \n",
    "    def get_perimeter(self) -> float:\n",
    "        return 2 * (self.width + self.height)"
   ]
  },
  {
   "cell_type": "markdown",
   "metadata": {},
   "source": [
    "Теперь мы можем написать функции, которая будет работать с нашими объектами `Shape`, и они могут быть уверены, что все классы, наследующиеся от `Shape` будут реализовывать нужные им методы:"
   ]
  },
  {
   "cell_type": "code",
   "execution_count": 32,
   "metadata": {},
   "outputs": [],
   "source": [
    "from typing import Iterable\n",
    "\n",
    "def get_areas_sum(shapes: Iterable[Shape]):\n",
    "    # Проверяем, что все наши объекты наследуются от Shape:\n",
    "    if not all(isinstance(shape, Shape) for shape in shapes):\n",
    "        raise ValueError(\"Only Shape objects are allowed\")\n",
    "    return sum(shape.get_area() for shape in shapes)\n",
    "\n",
    "def get_perimeters_sum(shapes: Iterable[Shape]):\n",
    "    # Проверяем, что все наши объекты наследуются от Shape:\n",
    "    if not all(isinstance(shape, Shape) for shape in shapes):\n",
    "        raise ValueError(\"Only Shape objects are allowed\")\n",
    "    return sum(shape.get_perimeter() for shape in shapes)"
   ]
  },
  {
   "cell_type": "markdown",
   "metadata": {},
   "source": [
    "Попробуем использовать наши функции по назначению:"
   ]
  },
  {
   "cell_type": "code",
   "execution_count": 33,
   "metadata": {},
   "outputs": [
    {
     "name": "stdout",
     "output_type": "stream",
     "text": [
      "4.141592653589793\n",
      "21.707963267948966\n",
      "10.283185307179586\n",
      "28.84955592153876\n"
     ]
    }
   ],
   "source": [
    "print(get_areas_sum([Circle(1.), Rectangle(1., 1.)]))\n",
    "print(get_areas_sum([Circle(1.), Circle(2.), Rectangle(3., 2.)]))\n",
    "\n",
    "print(get_perimeters_sum([Circle(1.), Rectangle(1., 1.)]))\n",
    "print(get_perimeters_sum([Circle(1.), Circle(2.), Rectangle(3., 2.)]))"
   ]
  },
  {
   "cell_type": "markdown",
   "metadata": {},
   "source": [
    "Попробуем подать неправильные объекты:"
   ]
  },
  {
   "cell_type": "code",
   "execution_count": 34,
   "metadata": {},
   "outputs": [
    {
     "ename": "ValueError",
     "evalue": "Only Shape objects are allowed",
     "output_type": "error",
     "traceback": [
      "\u001b[0;31m---------------------------------------------------------------------------\u001b[0m",
      "\u001b[0;31mValueError\u001b[0m                                Traceback (most recent call last)",
      "\u001b[0;32m<ipython-input-34-caadc412630f>\u001b[0m in \u001b[0;36m<module>\u001b[0;34m\u001b[0m\n\u001b[0;32m----> 1\u001b[0;31m \u001b[0mprint\u001b[0m\u001b[0;34m(\u001b[0m\u001b[0mget_areas_sum\u001b[0m\u001b[0;34m(\u001b[0m\u001b[0;34m[\u001b[0m\u001b[0mCircle\u001b[0m\u001b[0;34m(\u001b[0m\u001b[0;36m1.\u001b[0m\u001b[0;34m)\u001b[0m\u001b[0;34m,\u001b[0m \u001b[0mRectangle\u001b[0m\u001b[0;34m(\u001b[0m\u001b[0;36m1.\u001b[0m\u001b[0;34m,\u001b[0m \u001b[0;36m1.\u001b[0m\u001b[0;34m)\u001b[0m\u001b[0;34m,\u001b[0m \u001b[0;34m\"STRING\"\u001b[0m\u001b[0;34m]\u001b[0m\u001b[0;34m)\u001b[0m\u001b[0;34m)\u001b[0m\u001b[0;34m\u001b[0m\u001b[0;34m\u001b[0m\u001b[0m\n\u001b[0m",
      "\u001b[0;32m<ipython-input-32-fa1c3d5402d0>\u001b[0m in \u001b[0;36mget_areas_sum\u001b[0;34m(shapes)\u001b[0m\n\u001b[1;32m      4\u001b[0m     \u001b[0;31m# Проверяем, что все наши объекты наследуются от Shape:\u001b[0m\u001b[0;34m\u001b[0m\u001b[0;34m\u001b[0m\u001b[0;34m\u001b[0m\u001b[0m\n\u001b[1;32m      5\u001b[0m     \u001b[0;32mif\u001b[0m \u001b[0;32mnot\u001b[0m \u001b[0mall\u001b[0m\u001b[0;34m(\u001b[0m\u001b[0misinstance\u001b[0m\u001b[0;34m(\u001b[0m\u001b[0mshape\u001b[0m\u001b[0;34m,\u001b[0m \u001b[0mShape\u001b[0m\u001b[0;34m)\u001b[0m \u001b[0;32mfor\u001b[0m \u001b[0mshape\u001b[0m \u001b[0;32min\u001b[0m \u001b[0mshapes\u001b[0m\u001b[0;34m)\u001b[0m\u001b[0;34m:\u001b[0m\u001b[0;34m\u001b[0m\u001b[0;34m\u001b[0m\u001b[0m\n\u001b[0;32m----> 6\u001b[0;31m         \u001b[0;32mraise\u001b[0m \u001b[0mValueError\u001b[0m\u001b[0;34m(\u001b[0m\u001b[0;34m\"Only Shape objects are allowed\"\u001b[0m\u001b[0;34m)\u001b[0m\u001b[0;34m\u001b[0m\u001b[0;34m\u001b[0m\u001b[0m\n\u001b[0m\u001b[1;32m      7\u001b[0m     \u001b[0;32mreturn\u001b[0m \u001b[0msum\u001b[0m\u001b[0;34m(\u001b[0m\u001b[0mshape\u001b[0m\u001b[0;34m.\u001b[0m\u001b[0mget_area\u001b[0m\u001b[0;34m(\u001b[0m\u001b[0;34m)\u001b[0m \u001b[0;32mfor\u001b[0m \u001b[0mshape\u001b[0m \u001b[0;32min\u001b[0m \u001b[0mshapes\u001b[0m\u001b[0;34m)\u001b[0m\u001b[0;34m\u001b[0m\u001b[0;34m\u001b[0m\u001b[0m\n\u001b[1;32m      8\u001b[0m \u001b[0;34m\u001b[0m\u001b[0m\n",
      "\u001b[0;31mValueError\u001b[0m: Only Shape objects are allowed"
     ]
    }
   ],
   "source": [
    "print(get_areas_sum([Circle(1.), Rectangle(1., 1.), \"STRING\"]))"
   ]
  },
  {
   "cell_type": "markdown",
   "metadata": {},
   "source": [
    "Питон так же имеет множество встроенных абстрактных классов, которые вы можете использовать, для проверки того, что объект удовлетворяет определённому интерфейсу: https://docs.python.org/3/library/collections.abc.html"
   ]
  },
  {
   "cell_type": "markdown",
   "metadata": {},
   "source": [
    "### [Dataclasses](https://docs.python.org/3/library/dataclasses.html)"
   ]
  },
  {
   "cell_type": "markdown",
   "metadata": {},
   "source": [
    "Зачастую нам нужен небольшой класс, который не имеет своих методов, но просто хранит в себе какие-то данные. Например, класс человека с именем, фамилией и возрастом. \n",
    "\n",
    "Если мы напишем для такой цели полноценный питоновский класс, мы получим громоздкую конструкцию с множеством повторений:"
   ]
  },
  {
   "cell_type": "code",
   "execution_count": 35,
   "metadata": {},
   "outputs": [
    {
     "data": {
      "text/plain": [
       "<__main__.Person at 0x7fdb701ab8d0>"
      ]
     },
     "execution_count": 35,
     "metadata": {},
     "output_type": "execute_result"
    }
   ],
   "source": [
    "class Person:\n",
    "    def __init__(self, name, surname, age):\n",
    "        self.name = name\n",
    "        self.surname = surname\n",
    "        self.age = age\n",
    "        \n",
    "person = Person(\"Stern\", \"Morgenov\", 13)\n",
    "person"
   ]
  },
  {
   "cell_type": "markdown",
   "metadata": {},
   "source": [
    "И это мы не ещё определили такие методы как `__repr__` и `__eq__` для понятного представления и сравнения людей.\n",
    "\n",
    "Чтобы не заниматься всей этой ерундой питон предоставляет удобный способ создания классов, нужных исключительно для хранения данных, определённый во встроенном модуле `dataclasses`:"
   ]
  },
  {
   "cell_type": "code",
   "execution_count": 36,
   "metadata": {},
   "outputs": [
    {
     "data": {
      "text/plain": [
       "Person(name='Stern', surname='Morgenov', age=13)"
      ]
     },
     "execution_count": 36,
     "metadata": {},
     "output_type": "execute_result"
    }
   ],
   "source": [
    "from dataclasses import dataclass\n",
    "\n",
    "@dataclass\n",
    "class Person:\n",
    "    name: str\n",
    "    surname: str\n",
    "    age: int\n",
    "\n",
    "person = Person(\"Stern\", \"Morgenov\", 13)\n",
    "person"
   ]
  },
  {
   "cell_type": "markdown",
   "metadata": {},
   "source": [
    "Стоит отметить, что аннотация типов тут является обязательной частью синтаксиса. \n",
    "Данная конструкция автоматически создаёт для нас класс `Person` с определёнными методами `__init__`, `__repr__` и даже `__eq__`.\n",
    "\n",
    "При создании объекта параметры будут подаваться в том же порядке, в котором они объявлены в классе.\n",
    "\n",
    "Более тонко настроить, какие именно методы будут автоматически добавляться можно при помощи параметров самого декоратора. Например, если мы не хотим, чтобы за нас создавали `__repr__`, мы можем сделать так:"
   ]
  },
  {
   "cell_type": "code",
   "execution_count": 37,
   "metadata": {},
   "outputs": [
    {
     "data": {
      "text/plain": [
       "<__main__.PersonWORepr at 0x7fdb70152110>"
      ]
     },
     "execution_count": 37,
     "metadata": {},
     "output_type": "execute_result"
    }
   ],
   "source": [
    "@dataclass(repr=False)\n",
    "class PersonWORepr:\n",
    "    name: str\n",
    "    surname: str\n",
    "    age: int\n",
    "        \n",
    "person_wo_repr = PersonWORepr(\"Stern\", \"Morgenov\", 13)\n",
    "person_wo_repr"
   ]
  },
  {
   "cell_type": "markdown",
   "metadata": {},
   "source": [
    "Как видим, метод `__repr__` не добавился, и информация об объекте красиво не вывелась."
   ]
  },
  {
   "cell_type": "markdown",
   "metadata": {},
   "source": [
    "dataclass'ы поддерживают значения по умолчанию:"
   ]
  },
  {
   "cell_type": "code",
   "execution_count": 38,
   "metadata": {},
   "outputs": [
    {
     "data": {
      "text/plain": [
       "PersonWithDefaultAge(name='Stern', surname='Morgenov', age=28)"
      ]
     },
     "execution_count": 38,
     "metadata": {},
     "output_type": "execute_result"
    }
   ],
   "source": [
    "@dataclass\n",
    "class PersonWithDefaultAge:\n",
    "    name: str\n",
    "    surname: str\n",
    "    age: int = 28\n",
    "        \n",
    "person_with_default_age = PersonWithDefaultAge(\"Stern\", \"Morgenov\")\n",
    "person_with_default_age"
   ]
  },
  {
   "cell_type": "markdown",
   "metadata": {},
   "source": [
    "Как и в аргументах функций, все переменные со значениями по умолчанию должны стоять после всех переменных без них."
   ]
  },
  {
   "cell_type": "markdown",
   "metadata": {},
   "source": [
    "Last but not least, иногда вам может быть нужна дополнительная логика при задании полей dataclass'а. Например, вы хотите добавить изменяемый объект в качестве значения по умолчанию. Для таких случаев в модуле `dataclasses` есть `field`:"
   ]
  },
  {
   "cell_type": "code",
   "execution_count": 39,
   "metadata": {},
   "outputs": [
    {
     "data": {
      "text/plain": [
       "Student(name='Stern', surname='Morgenov', age=28, classes=[])"
      ]
     },
     "execution_count": 39,
     "metadata": {},
     "output_type": "execute_result"
    }
   ],
   "source": [
    "from typing import List\n",
    "from dataclasses import field\n",
    "\n",
    "@dataclass\n",
    "class Student:\n",
    "    name: str\n",
    "    surname: str\n",
    "    age: int = 28\n",
    "    classes: List[int] = field(default_factory=list)\n",
    "        \n",
    "student = Student(\"Stern\", \"Morgenov\")\n",
    "student"
   ]
  },
  {
   "cell_type": "markdown",
   "metadata": {},
   "source": [
    "Параметр `default_factory` в `field` принимает функцию, которая создаёт дефолтное значение.\n",
    "(Подробнее, почему изменяемые объекты в дефолтах &mdash; это плохо, спросите у семинариста или почитайте [тут](https://docs.quantifiedcode.com/python-anti-patterns/correctness/mutable_default_value_as_argument.html))"
   ]
  },
  {
   "cell_type": "markdown",
   "metadata": {},
   "source": [
    "dataclass'ы также поддерживают наследование. \n",
    "\n",
    "Подробнее о dataclass'ах можно почитать [в документации](https://docs.python.org/3/library/dataclasses.html) или [тут](https://habr.com/ru/post/415829/)."
   ]
  },
  {
   "cell_type": "markdown",
   "metadata": {},
   "source": [
    "**Задание:**\n",
    "* Создайте абстрактный класс `Transformer` с абстрактными методами `fit` и `transform`. Оба метода должны принимать объект `pandas.DataFrame`, представляющий из себя датасет с признаками, а так же список колонок, которые нужно преобразовать.\n",
    "* Создайте классы `LabelEncoder` и `OneHotEncoder`, отнаследованные от `Transformer`, которые выполняют соответственно label encoding и one hot encoding признаков выбранных колонок в датасете. (Оба класса должны хранить некоторую переменную, обозначающую, какой элемент переходит в какое число, которая \"обучается\" при вызове `fit`)\n",
    "* Создайте класс `Pipeline`, который принимает список `Transformer` в своём `__init__` и применяет их все последовательно при вызове своих методов `fit` и `predict`\n",
    "* Примените это всё на каком-нибудь датасете (например на том же Титанике: `pd.read_csv(\"https://raw.githubusercontent.com/iad34/seminars/master/materials/data_sem1.csv\", sep=\";\")`)"
   ]
  },
  {
   "cell_type": "code",
   "execution_count": null,
   "metadata": {},
   "outputs": [],
   "source": []
  }
 ],
 "metadata": {
  "kernelspec": {
   "display_name": "Python 3",
   "language": "python",
   "name": "python3"
  },
  "language_info": {
   "codemirror_mode": {
    "name": "ipython",
    "version": 3
   },
   "file_extension": ".py",
   "mimetype": "text/x-python",
   "name": "python",
   "nbconvert_exporter": "python",
   "pygments_lexer": "ipython3",
   "version": "3.7.4"
  }
 },
 "nbformat": 4,
 "nbformat_minor": 4
}
