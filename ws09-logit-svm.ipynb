{
  "nbformat": 4,
  "nbformat_minor": 5,
  "metadata": {
    "kernelspec": {
      "display_name": "Python 3",
      "language": "python",
      "name": "python3"
    },
    "language_info": {
      "codemirror_mode": {
        "name": "ipython",
        "version": 3
      },
      "file_extension": ".py",
      "mimetype": "text/x-python",
      "name": "python",
      "nbconvert_exporter": "python",
      "pygments_lexer": "ipython3",
      "version": "3.8.8"
    },
    "colab": {
      "name": "sem09_logit_svm.ipynb",
      "provenance": []
    }
  },
  "cells": [
    {
      "cell_type": "markdown",
      "metadata": {
        "id": "african-marble"
      },
      "source": [
        "## Интеллектуальный анализ данных: cеминар 9\n",
        "\n",
        "## Логистическая регрессия и SVM\n",
        "\n",
        "#### План:\n",
        "1. Логистическая регрессия\n",
        "2. SVM.\n",
        "3. Ирисы Фишера. Свойства логистической регрессии и SVM\n",
        "4. Логистическая регрессия и SVM на менее приятных данных.\n",
        "5. ROC-кривая. \n",
        "6. Бонус: вывод логистической регрессии через правдоподобие\n",
        "---"
      ],
      "id": "african-marble"
    },
    {
      "cell_type": "markdown",
      "metadata": {
        "id": "separate-gateway"
      },
      "source": [
        "### Логистическая регрессия"
      ],
      "id": "separate-gateway"
    },
    {
      "cell_type": "markdown",
      "metadata": {
        "id": "sought-brooklyn"
      },
      "source": [
        "Напомним, что мы по-прежнему решаем задачу бинарной классификации, в которой целевая переменная $y$ принимает два значения: -1 и 1. На прошлом семинаре мы обсудили, что эту задачу можно решить при помощи линейного классификатора \n",
        "\n",
        "$$\n",
        "f(x_i, w) = \\mathrm{sign}\\left(\\langle x_i, w \\rangle\\right).\n",
        "$$\n",
        "\n",
        "Функция потерь для такой задачи – это сумма индикаторов того, что предсказание сделано неверно: \n",
        "\n",
        "$$Q(X, w) = \\frac{1}{\\ell}\\sum_{i = 1}^{\\ell}[y_i \\ne \\mathrm{sign}\\left(\\langle x_i, w \\rangle\\right)].$$\n",
        "\n",
        "На лекциях мы обсуждали, что эту идею можно удобно записать через функцию отступа:\n",
        "\n",
        "$$\n",
        "Q(X, w) = \\frac{1}{\\ell}\\sum_{i = 1}^{\\ell}[y_i \\langle x_i, w \\rangle < 0].\n",
        "$$\n",
        "\n",
        "Понятно, что такую функцию проблематично дифференцировать по $w$. Вместо этого будем минимизировать некоторую функцию $Q'(X, w)$, являющуюся верхней оценкой для $Q(X, w)$, и надеяться, что минимизация $Q'(X, w)$ позволит достаточно хорошо минимизировать и $Q(X, w)$.\n",
        "\n",
        "Логистическая регрессия предлагает использовать логистическую функцию потерь:\n",
        "\n",
        "$$\n",
        "Q'(X, w) = \\frac{1}{\\ell}\\sum_{i = 1}^{\\ell}\\log(1 + e^{-y_i \\langle x_i, w \\rangle}) \\rightarrow \\min_w.\n",
        "$$"
      ],
      "id": "sought-brooklyn"
    },
    {
      "cell_type": "code",
      "metadata": {
        "id": "manual-launch"
      },
      "source": [
        "import numpy as np\n",
        "import pandas as pd\n",
        "import matplotlib.pyplot as plt"
      ],
      "id": "manual-launch",
      "execution_count": 1,
      "outputs": []
    },
    {
      "cell_type": "code",
      "metadata": {
        "id": "varying-mainstream",
        "outputId": "34f279e5-4dcd-4bc6-f742-85bf0b4628bc",
        "colab": {
          "base_uri": "https://localhost:8080/",
          "height": 374
        }
      },
      "source": [
        "x = np.concatenate((np.linspace(-3, 0, 500), np.linspace(0, 3, 500)))\n",
        "np.random.seed(123)\n",
        "y = np.ones(1000)\n",
        "w = np.ones(1000)\n",
        "M = y * x * w\n",
        "\n",
        "plt.figure(figsize = (8, 6))\n",
        "_ = plt.plot(x * w, x < 0, label = '$Q(X, w)$, zero-one loss')\n",
        "_ = plt.plot(M, np.log2(1 + np.exp(-M)), label = \"$Q'(X, w)$, logistic loss\")\n",
        "_ = plt.legend()"
      ],
      "id": "varying-mainstream",
      "execution_count": 2,
      "outputs": [
        {
          "output_type": "display_data",
          "data": {
            "image/png": "[encoded data removed]",
            "text/plain": [
              "<Figure size 576x432 with 1 Axes>"
            ]
          },
          "metadata": {
            "tags": [],
            "needs_background": "light"
          }
        }
      ]
    },
    {
      "cell_type": "markdown",
      "metadata": {
        "id": "fifth-closer"
      },
      "source": [
        "Для получения классической задачи логистической регрессии остаётся сделать один шаг и немного изменить постановку задачи. Предположим, что мы хотим решать задачу **мягкой** классификации, то есть предсказывать не метку класса, а вероятность того, что наблюдение принадлежит к классу. Понятно, что мы всегда можем перейти от мягкой классификации к жёсткой, выбрав порог принадлежности к положительному классу. "
      ],
      "id": "fifth-closer"
    },
    {
      "cell_type": "markdown",
      "metadata": {
        "id": "separated-relative"
      },
      "source": [
        "**Задание 1.** Поясните, почему для решения задачи мягкой классификации классификатор $f(x_i, w) = \\left(\\langle x_i, w \\rangle\\right)$ – не лучший выбор. "
      ],
      "id": "separated-relative"
    },
    {
      "cell_type": "markdown",
      "metadata": {
        "id": "horizontal-teach"
      },
      "source": [
        "Мы можем решить названную проблему, подставив $\\left(\\langle x_i, w \\rangle\\right)$ в некоторую функцию, областью значений которой является промежуток от 0 до 1. В логистической регрессии такой функцией выступает **сигмоида**:\n",
        "\n",
        "$$\n",
        "\\sigma(x) = \\dfrac{e^x}{1 + e^x} = \\dfrac{1}{1 + e^{-x}}.\n",
        "$$"
      ],
      "id": "horizontal-teach"
    },
    {
      "cell_type": "markdown",
      "metadata": {
        "id": "loaded-hammer"
      },
      "source": [
        "**Задание 2.** Сигмоида обаладет замечательнеым свойством, которое значительно упрощает вычисление градиентов при градиентном спуске:\n",
        "\n",
        "$$\n",
        "\\sigma(x)'_x = \\sigma(x)(1 - \\sigma(x)). \n",
        "$$\n",
        "\n",
        "Покажите, что это действительно так.\n",
        "\n",
        "**Решение:**\n",
        "\n",
        "$$\n",
        "\\sigma(x)' = \\frac{e^x(1 + e^x) - e^{2x}}{(1 + e^x)^2} = \\frac{e^x}{1 + e^x}\\frac{1}{1 + e^x} = \\sigma(x)(1-\\sigma(x)).\n",
        "$$"
      ],
      "id": "loaded-hammer"
    },
    {
      "cell_type": "markdown",
      "metadata": {
        "id": "impressive-fetish"
      },
      "source": [
        "Путём хитрых математических преобразований можно показать, что при использовании сигмоиды (= при решении задачи мягкой классификации) $Q'(X, w)$ можно записать в следующем виде:\n",
        "\n",
        "$$\n",
        "Q'(X, w) = -\\frac{1}{\\ell} \\sum_{i=1}^{\\ell} [y_i = 1]\\log\\sigma(\\langle x_i, w \\rangle) + [y_i = -1](1 - \\log(\\sigma(\\langle x_i, w \\rangle))\n",
        "$$\n",
        "\n",
        "Эта функция называется log-loss или кросс-энтропией между истинной целевой переменной и предсказанными вероятностями."
      ],
      "id": "impressive-fetish"
    },
    {
      "cell_type": "markdown",
      "metadata": {
        "id": "armed-piano"
      },
      "source": [
        "Регуляризация вводится таким же образом, как это было в случае линейной регрессии. Например, функция потерь для $l$-$2$ регуляризации выглядит так:\n",
        "\n",
        "$$\n",
        "\\bar{Q}'(X, w) = Q'(X, w) + \\frac{1}{2}\\lambda\\|w\\|^2_2.\n",
        "$$"
      ],
      "id": "armed-piano"
    },
    {
      "cell_type": "markdown",
      "metadata": {
        "id": "concerned-excellence"
      },
      "source": [
        "### Метод опорных векторов (SVM)"
      ],
      "id": "concerned-excellence"
    },
    {
      "cell_type": "markdown",
      "metadata": {
        "id": "meaningful-chase"
      },
      "source": [
        "Метод опорных векторов – математически строго обоснованный метод, идея которого состоит в максимизации ширины разделяющей полосы между классами. Так как для подробного вывода SVM требуется уверенное владение методами квадратичной оптимизации, мы разберём только идею и практическую реализацию метода. \n",
        "\n",
        "Мы по-прежнему решаем задачу бинарной классификации и используем классификатор $f(x_i, w) = \\mathrm{sign}(\\langle x_i, w\\rangle)$. Предположим, что мы работаем с линейно разделимой выборкой. Мы хотим максимизировать отступ (расстояние от точки до разделяющей поверхности) классификатора:\n",
        "\n",
        "$$\n",
        "\\rho(x_i, \\langle x, w\\rangle) =  \\min_i\\dfrac{|{\\langle x_i, w\\rangle|}}{\\|w\\|}.\n",
        "$$\n",
        "\n",
        "Воспользуемся картинкой из Википедии, чтобы лучше понять эту идею:\n",
        "\n",
        "[<img src=\"https://upload.wikimedia.org/wikipedia/commons/thumb/7/72/SVM_margin.png/1920px-SVM_margin.png\" alt=\"drawing\" width=\"400\"/>](https://en.wikipedia.org/wiki/Support-vector_machine#/media/File:SVM_margin.png)\n",
        "\n",
        "Заметим, что при делении $f(\\cdot)$ на положительное число ответы классификатора не меняются. Поделим $w$ нашего классификатора на $\\min_i |\\langle x_i, w \\rangle|$. Тогда отступ можно переписать как\n",
        "$$\n",
        "\\rho(\\langle x_i, w\\rangle) = \\frac{1}{\\|w\\|}.\n",
        "$$\n",
        "\n",
        "Получаем задачу SVM в линейно-разделимом случае:\n",
        "$$\n",
        "\\begin{cases}\n",
        "\\|w\\|^2 \\to \\min_{w}, \\\\\n",
        "y_i(\\langle x_i, w\\rangle) \\ge 1, \\\\\n",
        "\\end{cases}\n",
        "$$\n",
        "\n",
        "Если выборка не является линейно-разделимой, то нам придётся позволить линейному классификатору допускать ошибки на некоторых наблюдениях. Тогда задача превращается в поиск оптимального выбора между максимизацией ширины разделяющей полосы и ошибок классификации:\n",
        "\n",
        "$$\n",
        "\\begin{cases}\n",
        "\\|w\\|^2 + C \\sum_{i = 1}^{\\ell} \\xi_i \\to \\min_{w, \\xi_i}, \\\\\n",
        "y_i(\\langle x_i, w\\rangle) \\ge 1 - \\xi_i, \\\\\n",
        "\\xi_i \\ge 0\n",
        "\\end{cases}\n",
        "$$\n",
        "\n",
        "$C$ – параметр, который позволяет регулировать пропорции этого выбора. Чем больше $C$, тем больше штраф за неверную классификацию.\n",
        "\n",
        "[<img src=\"https://miro.medium.com/max/1400/1*0vOVPBmYCkw-sUt77HtyGA.png\" alt=\"drawing\" width=\"800\"/>](https://towardsdatascience.com/support-vector-machine-simply-explained-fee28eba5496)\n",
        "\n",
        "Путём хитрых математических преобразований можно показать, что итоговая функция потерь SVM выглядит следующим образом:\n",
        "\n",
        "$$\n",
        "Q(X, w) = C\\sum_{i=1}^{l} \\max\\{0, 1 - y_i(\\langle x_i, w\\rangle)\\} + \\|w\\|^2 \\to \\min_w\n",
        "$$"
      ],
      "id": "meaningful-chase"
    },
    {
      "cell_type": "markdown",
      "metadata": {
        "id": "union-darwin"
      },
      "source": [
        "### Ирисы Фишера. Свойства логистической регрессии и SVM"
      ],
      "id": "union-darwin"
    },
    {
      "cell_type": "markdown",
      "metadata": {
        "id": "abroad-hamburg"
      },
      "source": [
        "Рассмотрим свойства логистической регрессии и метода опорных векторов на примере классического набора данных [\"Ирисы Фишера\"](https://ru.wikipedia.org/wiki/Ирисы_Фишера). Этот набор состоит из 150 наблюдений, каждое из которых представляет собой четыре измерения: длина наружной доли околоцветника (`sepal length`), ширина наружной доли околоцветника (`sepal width`), длина внутренней доли околоцветника (`petal length`), ширина внутренней доли околоцветника (`petal width`). Каждое наблюдение относится к одному из трёх классов ириса: `setosa`, `versicolor` или `virginica`. Задача состоит в том, чтобы по измерениям предсказать класс цветка. \n",
        "\n",
        "[<img src=\"https://miro.medium.com/max/1000/1*Hh53mOF4Xy4eORjLilKOwA.png\" alt=\"drawing\" width=\"800\"/>](https://miro.medium.com/max/1000/1*Hh53mOF4Xy4eORjLilKOwA.png)"
      ],
      "id": "abroad-hamburg"
    },
    {
      "cell_type": "code",
      "metadata": {
        "id": "several-bradford",
        "outputId": "996567d8-d40b-4bd6-a0cb-bcb4e531d3ec",
        "colab": {
          "base_uri": "https://localhost:8080/",
          "height": 195
        }
      },
      "source": [
        "from sklearn.datasets import load_iris\n",
        "data = load_iris()\n",
        "X = pd.DataFrame(data['data'], columns = data['feature_names'])\n",
        "y = data['target']\n",
        "X.head()"
      ],
      "id": "several-bradford",
      "execution_count": 3,
      "outputs": [
        {
          "output_type": "execute_result",
          "data": {
            "text/html": [
              "<div>\n",
              "<style scoped>\n",
              "    .dataframe tbody tr th:only-of-type {\n",
              "        vertical-align: middle;\n",
              "    }\n",
              "\n",
              "    .dataframe tbody tr th {\n",
              "        vertical-align: top;\n",
              "    }\n",
              "\n",
              "    .dataframe thead th {\n",
              "        text-align: right;\n",
              "    }\n",
              "</style>\n",
              "<table border=\"1\" class=\"dataframe\">\n",
              "  <thead>\n",
              "    <tr style=\"text-align: right;\">\n",
              "      <th></th>\n",
              "      <th>sepal length (cm)</th>\n",
              "      <th>sepal width (cm)</th>\n",
              "      <th>petal length (cm)</th>\n",
              "      <th>petal width (cm)</th>\n",
              "    </tr>\n",
              "  </thead>\n",
              "  <tbody>\n",
              "    <tr>\n",
              "      <th>0</th>\n",
              "      <td>5.1</td>\n",
              "      <td>3.5</td>\n",
              "      <td>1.4</td>\n",
              "      <td>0.2</td>\n",
              "    </tr>\n",
              "    <tr>\n",
              "      <th>1</th>\n",
              "      <td>4.9</td>\n",
              "      <td>3.0</td>\n",
              "      <td>1.4</td>\n",
              "      <td>0.2</td>\n",
              "    </tr>\n",
              "    <tr>\n",
              "      <th>2</th>\n",
              "      <td>4.7</td>\n",
              "      <td>3.2</td>\n",
              "      <td>1.3</td>\n",
              "      <td>0.2</td>\n",
              "    </tr>\n",
              "    <tr>\n",
              "      <th>3</th>\n",
              "      <td>4.6</td>\n",
              "      <td>3.1</td>\n",
              "      <td>1.5</td>\n",
              "      <td>0.2</td>\n",
              "    </tr>\n",
              "    <tr>\n",
              "      <th>4</th>\n",
              "      <td>5.0</td>\n",
              "      <td>3.6</td>\n",
              "      <td>1.4</td>\n",
              "      <td>0.2</td>\n",
              "    </tr>\n",
              "  </tbody>\n",
              "</table>\n",
              "</div>"
            ],
            "text/plain": [
              "   sepal length (cm)  sepal width (cm)  petal length (cm)  petal width (cm)\n",
              "0                5.1               3.5                1.4               0.2\n",
              "1                4.9               3.0                1.4               0.2\n",
              "2                4.7               3.2                1.3               0.2\n",
              "3                4.6               3.1                1.5               0.2\n",
              "4                5.0               3.6                1.4               0.2"
            ]
          },
          "metadata": {
            "tags": []
          },
          "execution_count": 3
        }
      ]
    },
    {
      "cell_type": "markdown",
      "metadata": {
        "id": "velvet-macintosh"
      },
      "source": [
        "**Задание 1.** Перейдём к задаче бинарной классификации: будем предсказывать принадлежность цветка к виду `versicolor` против принадлежности ко всем прочим видам. Перекодируйте зависимую переменную так, чтобы цветки вида `versicolor` имели метку 1, а прочих видов – метку -1. "
      ],
      "id": "velvet-macintosh"
    },
    {
      "cell_type": "code",
      "metadata": {
        "id": "intimate-drawing",
        "outputId": "a71ff67f-25a0-4d69-ed40-f3d464983e4b",
        "colab": {
          "base_uri": "https://localhost:8080/"
        }
      },
      "source": [
        "data['target_names']\r\n",
        "y[y != 1] = 0\r\n",
        "y"
      ],
      "id": "intimate-drawing",
      "execution_count": 7,
      "outputs": [
        {
          "output_type": "execute_result",
          "data": {
            "text/plain": [
              "array(['setosa', 'versicolor', 'virginica'], dtype='<U10')"
            ]
          },
          "metadata": {
            "tags": []
          },
          "execution_count": 7
        }
      ]
    },
    {
      "cell_type": "markdown",
      "metadata": {
        "id": "imported-symphony"
      },
      "source": [
        "**Задание 2**. Будем работать с двумя признаками: `sepal length (cm)` и `sepal width (cm)`. Отделите их в отдельную матрицу. Разделите выборку на обучающую и тестовую, долю тестовой выборки укажите равной 0.3. Отмасштабируйте выборки при помощи StandardScaler. Постройте диаграмму рассеяния по тренировочной выборке и убедитесь, что данные линейно не разделимы. "
      ],
      "id": "imported-symphony"
    },
    {
      "cell_type": "code",
      "metadata": {
        "id": "imperial-dealer"
      },
      "source": [
        "from sklearn.model_selection import train_test_split\n",
        "from sklearn.preprocessing import StandardScaler\n",
        "np.random.seed(123)"
      ],
      "id": "imperial-dealer",
      "execution_count": 28,
      "outputs": []
    },
    {
      "cell_type": "code",
      "metadata": {
        "id": "metric-thriller",
        "outputId": "a3a34b2c-43f8-4312-9708-2f893dd4f8e3",
        "colab": {
          "base_uri": "https://localhost:8080/",
          "height": 282
        }
      },
      "source": [
        "X = X[['sepal length (cm)', 'sepal width (cm)']]\r\n",
        "X_train, X_test, y_train, y_test = train_test_split(X, y, test_size=0.3)\r\n",
        "ss = StandardScaler()\r\n",
        "X_train = ss.fit_transform(X_train)\r\n",
        "X_test = ss.fit_transform(X_test)\r\n",
        "plt.scatter(X_train[:, 0], X_train[:, 1], c = y_train)"
      ],
      "id": "metric-thriller",
      "execution_count": 29,
      "outputs": [
        {
          "output_type": "execute_result",
          "data": {
            "text/plain": [
              "<matplotlib.collections.PathCollection at 0x7f5c634beb10>"
            ]
          },
          "metadata": {
            "tags": []
          },
          "execution_count": 29
        },
        {
          "output_type": "display_data",
          "data": {
            "image/png": "[encoded data removed]",
            "text/plain": [
              "<Figure size 432x288 with 1 Axes>"
            ]
          },
          "metadata": {
            "tags": [],
            "needs_background": "light"
          }
        }
      ]
    },
    {
      "cell_type": "markdown",
      "metadata": {
        "id": "nominated-nightmare"
      },
      "source": [
        "**Задание 3.** Начнём с простого. Обучите логистическую регрессию и SVM с линейным ядром на тренировочной выборке и убедитесь, что полученные оценки весов действительно различаются. Убедитесь, что `accuracy`, возможно, не подходит в качестве метрики для данной задачи и рассчитайте `f1-меру` на тестовой выборке. Какой алгорим показал более высокое качество?"
      ],
      "id": "nominated-nightmare"
    },
    {
      "cell_type": "code",
      "metadata": {
        "id": "imperial-saskatchewan"
      },
      "source": [
        "from sklearn.linear_model import LogisticRegression\n",
        "from sklearn.svm import SVC"
      ],
      "id": "imperial-saskatchewan",
      "execution_count": 30,
      "outputs": []
    },
    {
      "cell_type": "code",
      "metadata": {
        "id": "combined-luther",
        "outputId": "683184f7-4e9b-492a-881d-a9173d211359",
        "colab": {
          "base_uri": "https://localhost:8080/"
        }
      },
      "source": [
        "lr = LogisticRegression()\n",
        "lr.fit(X_train, y_train)\n",
        "\n",
        "svm = SVC(kernel='linear')\n",
        "svm.fit(X_train, y_train)\n",
        "\n",
        "print(lr.coef_)\n",
        "print(svm.coef_)\n",
        "\n",
        "print(pd.Series(y_train).value_counts())\n",
        "print(pd.Series(y_test).value_counts())\n",
        "\n",
        "from sklearn.metrics import f1_score\n",
        "print('LR ', f1_score(y_test, lr.predict(X_test)))\n",
        "print('SVM ', f1_score(y_test, svm.predict(X_test)))"
      ],
      "id": "combined-luther",
      "execution_count": 31,
      "outputs": [
        {
          "output_type": "stream",
          "text": [
            "[[ 0.18163349 -1.04216502]]\n",
            "[[-3.78448050e-05 -1.01771688e+00]]\n",
            "0    65\n",
            "1    40\n",
            "dtype: int64\n",
            "0    35\n",
            "1    10\n",
            "dtype: int64\n",
            "LR  0.6956521739130435\n",
            "SVM  0.8000000000000002\n"
          ],
          "name": "stdout"
        }
      ]
    },
    {
      "cell_type": "markdown",
      "metadata": {
        "id": "dominant-jenny"
      },
      "source": [
        "Теперь посмотрим, как различаются решающие поверхности алгоритмов. "
      ],
      "id": "dominant-jenny"
    },
    {
      "cell_type": "markdown",
      "metadata": {
        "id": "cloudy-profit"
      },
      "source": [
        "Код ниже построит решающие поверхности для классификаторов."
      ],
      "id": "cloudy-profit"
    },
    {
      "cell_type": "code",
      "metadata": {
        "id": "marine-dictionary",
        "outputId": "4ad03053-38e9-4747-cef8-8b279f9ef1d2",
        "colab": {
          "base_uri": "https://localhost:8080/",
          "height": 586
        }
      },
      "source": [
        "import matplotlib.pyplot as plt\n",
        "from mlxtend.plotting import plot_decision_regions\n",
        "import matplotlib.gridspec as gridspec\n",
        "import itertools\n",
        "gs = gridspec.GridSpec(1, 2)\n",
        "\n",
        "fig = plt.figure(figsize=(10,8))\n",
        "\n",
        "labels = ['Logistic Regression', 'SVM']\n",
        "for clf, lab, grd in zip([lr, svm],\n",
        "                         labels,\n",
        "                         itertools.product([0, 1], repeat=2)):\n",
        "\n",
        "    ax = plt.subplot(gs[grd[0], grd[1]])\n",
        "    fig = plot_decision_regions(X = X_train, y = np.array(y_train), clf=clf, legend=2)\n",
        "    plt.title(lab)\n",
        "\n",
        "plt.show()"
      ],
      "id": "marine-dictionary",
      "execution_count": 32,
      "outputs": [
        {
          "output_type": "stream",
          "text": [
            "/usr/local/lib/python3.7/dist-packages/mlxtend/plotting/decision_regions.py:244: MatplotlibDeprecationWarning: Passing unsupported keyword arguments to axis() will raise a TypeError in 3.3.\n",
            "  ax.axis(xmin=xx.min(), xmax=xx.max(), y_min=yy.min(), y_max=yy.max())\n",
            "/usr/local/lib/python3.7/dist-packages/mlxtend/plotting/decision_regions.py:244: MatplotlibDeprecationWarning: Passing unsupported keyword arguments to axis() will raise a TypeError in 3.3.\n",
            "  ax.axis(xmin=xx.min(), xmax=xx.max(), y_min=yy.min(), y_max=yy.max())\n"
          ],
          "name": "stderr"
        },
        {
          "output_type": "display_data",
          "data": {
            "image/png": "[encoded data removed]",
            "text/plain": [
              "<Figure size 720x576 with 2 Axes>"
            ]
          },
          "metadata": {
            "tags": [],
            "needs_background": "light"
          }
        }
      ]
    },
    {
      "cell_type": "markdown",
      "metadata": {
        "id": "unsigned-petite"
      },
      "source": [
        "Теперь изучим свойства каждого классификатора по-отдельности. Начнём с логистической регрессии.\n",
        "\n",
        "**Задание 3.** Обучите три различные логистические регрессии с разным параметром регуляризации $\\alpha$ (обратите внимание, что в реализации `sklearn` $C = 1/\\alpha$). Как изменяется разделяющая поверхность в зависимости от $\\alpha$?"
      ],
      "id": "unsigned-petite"
    },
    {
      "cell_type": "code",
      "metadata": {
        "id": "happy-origin"
      },
      "source": [
        "C = [0.01, 0.05, 5]\n",
        "\n",
        "lr1 = LogisticRegression(C = C[0])\n",
        "lr2 = LogisticRegression(C = C[1])\n",
        "lr3 = LogisticRegression(C = C[2])"
      ],
      "id": "happy-origin",
      "execution_count": 38,
      "outputs": []
    },
    {
      "cell_type": "code",
      "metadata": {
        "id": "victorian-danger",
        "outputId": "6634a012-52ee-4b62-cf1a-7cc4aec6abcc",
        "colab": {
          "base_uri": "https://localhost:8080/",
          "height": 620
        }
      },
      "source": [
        "import matplotlib.pyplot as plt\n",
        "from mlxtend.plotting import plot_decision_regions\n",
        "import matplotlib.gridspec as gridspec\n",
        "import itertools\n",
        "gs = gridspec.GridSpec(1, 3)\n",
        "\n",
        "fig = plt.figure(figsize=(15,8))\n",
        "\n",
        "labels = ['C = ...', 'C = ...', 'C = ...']\n",
        "for clf, lab, grd in zip([lr1, lr2, lr3],\n",
        "                         labels,\n",
        "                         itertools.product([0, 1, 2], repeat=2)):\n",
        "    clf.fit(X_train, y_train)\n",
        "    ax = plt.subplot(gs[grd[0], grd[1]])\n",
        "    fig = plot_decision_regions(X = X_train, y = np.array(y_train), clf=clf, legend=2)\n",
        "    plt.title(lab)\n",
        "\n",
        "plt.show()"
      ],
      "id": "victorian-danger",
      "execution_count": 37,
      "outputs": [
        {
          "output_type": "stream",
          "text": [
            "/usr/local/lib/python3.7/dist-packages/mlxtend/plotting/decision_regions.py:244: MatplotlibDeprecationWarning: Passing unsupported keyword arguments to axis() will raise a TypeError in 3.3.\n",
            "  ax.axis(xmin=xx.min(), xmax=xx.max(), y_min=yy.min(), y_max=yy.max())\n",
            "/usr/local/lib/python3.7/dist-packages/mlxtend/plotting/decision_regions.py:244: MatplotlibDeprecationWarning: Passing unsupported keyword arguments to axis() will raise a TypeError in 3.3.\n",
            "  ax.axis(xmin=xx.min(), xmax=xx.max(), y_min=yy.min(), y_max=yy.max())\n",
            "/usr/local/lib/python3.7/dist-packages/mlxtend/plotting/decision_regions.py:244: MatplotlibDeprecationWarning: Passing unsupported keyword arguments to axis() will raise a TypeError in 3.3.\n",
            "  ax.axis(xmin=xx.min(), xmax=xx.max(), y_min=yy.min(), y_max=yy.max())\n"
          ],
          "name": "stderr"
        },
        {
          "output_type": "display_data",
          "data": {
            "image/png": "[encoded data removed]",
            "text/plain": [
              "<Figure size 1080x576 with 3 Axes>"
            ]
          },
          "metadata": {
            "tags": [],
            "needs_background": "light"
          }
        }
      ]
    },
    {
      "cell_type": "markdown",
      "metadata": {
        "id": "resident-store"
      },
      "source": [
        "**Задание 4.** Теперь попробуем понять, что происходит при решении задачи мягкой классификации. Выведите долю положительных наблюдений целевой переменной тренировочной выборки. Используя метод `predict_proba()`, сделайте предсказание по всей тренировочной выборке и найдите среднюю оценку вероятности принадлежности к положительному классу. Сравните полученную долю и среднюю предсказанную вероятность положительного класса. Как это можно объяснить? (подробный ответ в бонусной части в конце семинара). "
      ],
      "id": "resident-store"
    },
    {
      "cell_type": "code",
      "metadata": {
        "id": "instructional-reminder",
        "outputId": "89f7fe60-4ed5-45f6-d8f1-0968ac02e84b",
        "colab": {
          "base_uri": "https://localhost:8080/"
        }
      },
      "source": [
        "print(y_train.mean())\r\n",
        "lr.predict_proba(X_train).mean(axis=0)"
      ],
      "id": "instructional-reminder",
      "execution_count": 40,
      "outputs": [
        {
          "output_type": "stream",
          "text": [
            "0.38095238095238093\n"
          ],
          "name": "stdout"
        },
        {
          "output_type": "execute_result",
          "data": {
            "text/plain": [
              "array([0.61904778, 0.38095222])"
            ]
          },
          "metadata": {
            "tags": []
          },
          "execution_count": 40
        }
      ]
    },
    {
      "cell_type": "markdown",
      "metadata": {
        "id": "handy-bolivia"
      },
      "source": [
        "Перейдём к SVM.\n",
        "\n",
        "**Задание 5.** Обучите три SVM с линейным ядром с разным параметром регуляризации $C$. Как изменяется разделяющая поверхность в зависимости от $C$?"
      ],
      "id": "handy-bolivia"
    },
    {
      "cell_type": "code",
      "metadata": {
        "id": "patent-chess"
      },
      "source": [
        "C = [0.04, 0.05, 1]\n",
        "\n",
        "svc1 = SVC(kernel='linear', C=C[0])\n",
        "svc2 = SVC(kernel='linear', C=C[1])\n",
        "svc3 = SVC(kernel='linear', C=C[2])"
      ],
      "id": "patent-chess",
      "execution_count": 43,
      "outputs": []
    },
    {
      "cell_type": "code",
      "metadata": {
        "id": "local-revolution",
        "outputId": "806d3f4f-e113-4e2f-87cd-5cef2ca92d0d",
        "colab": {
          "base_uri": "https://localhost:8080/",
          "height": 620
        }
      },
      "source": [
        "import matplotlib.pyplot as plt\n",
        "from mlxtend.plotting import plot_decision_regions\n",
        "import matplotlib.gridspec as gridspec\n",
        "import itertools\n",
        "gs = gridspec.GridSpec(1, 3)\n",
        "\n",
        "fig = plt.figure(figsize=(15,8))\n",
        "\n",
        "labels = ['C = ...', 'C = ...', 'C = ...']\n",
        "for clf, lab, grd in zip([svc1, svc2, svc3],\n",
        "                         labels,\n",
        "                         itertools.product([0, 1, 2], repeat=2)):\n",
        "    clf.fit(X_train, y_train)\n",
        "    ax = plt.subplot(gs[grd[0], grd[1]])\n",
        "    fig = plot_decision_regions(X = X_train, y = np.array(y_train), clf=clf, legend=2)\n",
        "    plt.title(lab)\n",
        "\n",
        "plt.show()"
      ],
      "id": "local-revolution",
      "execution_count": 44,
      "outputs": [
        {
          "output_type": "stream",
          "text": [
            "/usr/local/lib/python3.7/dist-packages/mlxtend/plotting/decision_regions.py:244: MatplotlibDeprecationWarning: Passing unsupported keyword arguments to axis() will raise a TypeError in 3.3.\n",
            "  ax.axis(xmin=xx.min(), xmax=xx.max(), y_min=yy.min(), y_max=yy.max())\n",
            "/usr/local/lib/python3.7/dist-packages/mlxtend/plotting/decision_regions.py:244: MatplotlibDeprecationWarning: Passing unsupported keyword arguments to axis() will raise a TypeError in 3.3.\n",
            "  ax.axis(xmin=xx.min(), xmax=xx.max(), y_min=yy.min(), y_max=yy.max())\n",
            "/usr/local/lib/python3.7/dist-packages/mlxtend/plotting/decision_regions.py:244: MatplotlibDeprecationWarning: Passing unsupported keyword arguments to axis() will raise a TypeError in 3.3.\n",
            "  ax.axis(xmin=xx.min(), xmax=xx.max(), y_min=yy.min(), y_max=yy.max())\n"
          ],
          "name": "stderr"
        },
        {
          "output_type": "display_data",
          "data": {
            "image/png": "[encoded data removed]",
            "text/plain": [
              "<Figure size 1080x576 with 3 Axes>"
            ]
          },
          "metadata": {
            "tags": [],
            "needs_background": "light"
          }
        }
      ]
    },
    {
      "cell_type": "markdown",
      "metadata": {
        "id": "aware-beach"
      },
      "source": [
        "### Логистическая регрессия и SVM на менее приятных данных."
      ],
      "id": "aware-beach"
    },
    {
      "cell_type": "markdown",
      "metadata": {
        "id": "identified-short"
      },
      "source": [
        "Мы будем работать с [набором данных](https://www.kaggle.com/piyushgoyal443/red-wine-dataset?select=wineQualityReds.csv), содержащим информацию о характеристиках вина. Каждое наблюдение принадлежит к одному из 10 категорий качества вина, и наша задача заключается в том, что предсказать эту категорию. "
      ],
      "id": "identified-short"
    },
    {
      "cell_type": "code",
      "metadata": {
        "id": "national-money",
        "outputId": "38f0b5a5-cb44-44e4-97c1-dc3bedc95a9c",
        "colab": {
          "base_uri": "https://localhost:8080/",
          "height": 195
        }
      },
      "source": [
        "data = pd.read_csv('https://raw.githubusercontent.com/hse-ds/iad-intro-ds/master/2021/seminars/sem09_logit_svm/wineQualityReds.csv', index_col = 0)\n",
        "data.head()"
      ],
      "id": "national-money",
      "execution_count": 45,
      "outputs": [
        {
          "output_type": "execute_result",
          "data": {
            "text/html": [
              "<div>\n",
              "<style scoped>\n",
              "    .dataframe tbody tr th:only-of-type {\n",
              "        vertical-align: middle;\n",
              "    }\n",
              "\n",
              "    .dataframe tbody tr th {\n",
              "        vertical-align: top;\n",
              "    }\n",
              "\n",
              "    .dataframe thead th {\n",
              "        text-align: right;\n",
              "    }\n",
              "</style>\n",
              "<table border=\"1\" class=\"dataframe\">\n",
              "  <thead>\n",
              "    <tr style=\"text-align: right;\">\n",
              "      <th></th>\n",
              "      <th>fixed.acidity</th>\n",
              "      <th>volatile.acidity</th>\n",
              "      <th>citric.acid</th>\n",
              "      <th>residual.sugar</th>\n",
              "      <th>chlorides</th>\n",
              "      <th>free.sulfur.dioxide</th>\n",
              "      <th>total.sulfur.dioxide</th>\n",
              "      <th>density</th>\n",
              "      <th>pH</th>\n",
              "      <th>sulphates</th>\n",
              "      <th>alcohol</th>\n",
              "      <th>quality</th>\n",
              "    </tr>\n",
              "  </thead>\n",
              "  <tbody>\n",
              "    <tr>\n",
              "      <th>1</th>\n",
              "      <td>7.4</td>\n",
              "      <td>0.70</td>\n",
              "      <td>0.00</td>\n",
              "      <td>1.9</td>\n",
              "      <td>0.076</td>\n",
              "      <td>11.0</td>\n",
              "      <td>34.0</td>\n",
              "      <td>0.9978</td>\n",
              "      <td>3.51</td>\n",
              "      <td>0.56</td>\n",
              "      <td>9.4</td>\n",
              "      <td>5</td>\n",
              "    </tr>\n",
              "    <tr>\n",
              "      <th>2</th>\n",
              "      <td>7.8</td>\n",
              "      <td>0.88</td>\n",
              "      <td>0.00</td>\n",
              "      <td>2.6</td>\n",
              "      <td>0.098</td>\n",
              "      <td>25.0</td>\n",
              "      <td>67.0</td>\n",
              "      <td>0.9968</td>\n",
              "      <td>3.20</td>\n",
              "      <td>0.68</td>\n",
              "      <td>9.8</td>\n",
              "      <td>5</td>\n",
              "    </tr>\n",
              "    <tr>\n",
              "      <th>3</th>\n",
              "      <td>7.8</td>\n",
              "      <td>0.76</td>\n",
              "      <td>0.04</td>\n",
              "      <td>2.3</td>\n",
              "      <td>0.092</td>\n",
              "      <td>15.0</td>\n",
              "      <td>54.0</td>\n",
              "      <td>0.9970</td>\n",
              "      <td>3.26</td>\n",
              "      <td>0.65</td>\n",
              "      <td>9.8</td>\n",
              "      <td>5</td>\n",
              "    </tr>\n",
              "    <tr>\n",
              "      <th>4</th>\n",
              "      <td>11.2</td>\n",
              "      <td>0.28</td>\n",
              "      <td>0.56</td>\n",
              "      <td>1.9</td>\n",
              "      <td>0.075</td>\n",
              "      <td>17.0</td>\n",
              "      <td>60.0</td>\n",
              "      <td>0.9980</td>\n",
              "      <td>3.16</td>\n",
              "      <td>0.58</td>\n",
              "      <td>9.8</td>\n",
              "      <td>6</td>\n",
              "    </tr>\n",
              "    <tr>\n",
              "      <th>5</th>\n",
              "      <td>7.4</td>\n",
              "      <td>0.70</td>\n",
              "      <td>0.00</td>\n",
              "      <td>1.9</td>\n",
              "      <td>0.076</td>\n",
              "      <td>11.0</td>\n",
              "      <td>34.0</td>\n",
              "      <td>0.9978</td>\n",
              "      <td>3.51</td>\n",
              "      <td>0.56</td>\n",
              "      <td>9.4</td>\n",
              "      <td>5</td>\n",
              "    </tr>\n",
              "  </tbody>\n",
              "</table>\n",
              "</div>"
            ],
            "text/plain": [
              "   fixed.acidity  volatile.acidity  citric.acid  ...  sulphates  alcohol  quality\n",
              "1            7.4              0.70         0.00  ...       0.56      9.4        5\n",
              "2            7.8              0.88         0.00  ...       0.68      9.8        5\n",
              "3            7.8              0.76         0.04  ...       0.65      9.8        5\n",
              "4           11.2              0.28         0.56  ...       0.58      9.8        6\n",
              "5            7.4              0.70         0.00  ...       0.56      9.4        5\n",
              "\n",
              "[5 rows x 12 columns]"
            ]
          },
          "metadata": {
            "tags": []
          },
          "execution_count": 45
        }
      ]
    },
    {
      "cell_type": "markdown",
      "metadata": {
        "id": "breathing-reset"
      },
      "source": [
        "Как указано в описании набора, в нём нет пропущенных значений, и все переменные являются непрерывными. Целевая переменная – `quality`. "
      ],
      "id": "breathing-reset"
    },
    {
      "cell_type": "markdown",
      "metadata": {
        "id": "independent-enlargement"
      },
      "source": [
        "**Задание 1.** Перейдём к задаче бинарной классификации и будем предсказывать только наиболее популярную категорию качества. Закодируйте столбец `quality` так, чтобы наиболее частая категория (это категория 5) получила метку 1, а все прочие категории – метку -1."
      ],
      "id": "independent-enlargement"
    },
    {
      "cell_type": "code",
      "metadata": {
        "id": "hybrid-palmer",
        "outputId": "b542ea60-543c-4bc5-db3a-9ad7a242a669",
        "colab": {
          "base_uri": "https://localhost:8080/",
          "height": 195
        }
      },
      "source": [
        "qual = data.quality.copy()\r\n",
        "qual[qual != 5] = 0\r\n",
        "qual[qual == 5] = 1\r\n",
        "data['quality'] = qual\r\n",
        "data.head()"
      ],
      "id": "hybrid-palmer",
      "execution_count": 46,
      "outputs": [
        {
          "output_type": "execute_result",
          "data": {
            "text/html": [
              "<div>\n",
              "<style scoped>\n",
              "    .dataframe tbody tr th:only-of-type {\n",
              "        vertical-align: middle;\n",
              "    }\n",
              "\n",
              "    .dataframe tbody tr th {\n",
              "        vertical-align: top;\n",
              "    }\n",
              "\n",
              "    .dataframe thead th {\n",
              "        text-align: right;\n",
              "    }\n",
              "</style>\n",
              "<table border=\"1\" class=\"dataframe\">\n",
              "  <thead>\n",
              "    <tr style=\"text-align: right;\">\n",
              "      <th></th>\n",
              "      <th>fixed.acidity</th>\n",
              "      <th>volatile.acidity</th>\n",
              "      <th>citric.acid</th>\n",
              "      <th>residual.sugar</th>\n",
              "      <th>chlorides</th>\n",
              "      <th>free.sulfur.dioxide</th>\n",
              "      <th>total.sulfur.dioxide</th>\n",
              "      <th>density</th>\n",
              "      <th>pH</th>\n",
              "      <th>sulphates</th>\n",
              "      <th>alcohol</th>\n",
              "      <th>quality</th>\n",
              "    </tr>\n",
              "  </thead>\n",
              "  <tbody>\n",
              "    <tr>\n",
              "      <th>1</th>\n",
              "      <td>7.4</td>\n",
              "      <td>0.70</td>\n",
              "      <td>0.00</td>\n",
              "      <td>1.9</td>\n",
              "      <td>0.076</td>\n",
              "      <td>11.0</td>\n",
              "      <td>34.0</td>\n",
              "      <td>0.9978</td>\n",
              "      <td>3.51</td>\n",
              "      <td>0.56</td>\n",
              "      <td>9.4</td>\n",
              "      <td>1</td>\n",
              "    </tr>\n",
              "    <tr>\n",
              "      <th>2</th>\n",
              "      <td>7.8</td>\n",
              "      <td>0.88</td>\n",
              "      <td>0.00</td>\n",
              "      <td>2.6</td>\n",
              "      <td>0.098</td>\n",
              "      <td>25.0</td>\n",
              "      <td>67.0</td>\n",
              "      <td>0.9968</td>\n",
              "      <td>3.20</td>\n",
              "      <td>0.68</td>\n",
              "      <td>9.8</td>\n",
              "      <td>1</td>\n",
              "    </tr>\n",
              "    <tr>\n",
              "      <th>3</th>\n",
              "      <td>7.8</td>\n",
              "      <td>0.76</td>\n",
              "      <td>0.04</td>\n",
              "      <td>2.3</td>\n",
              "      <td>0.092</td>\n",
              "      <td>15.0</td>\n",
              "      <td>54.0</td>\n",
              "      <td>0.9970</td>\n",
              "      <td>3.26</td>\n",
              "      <td>0.65</td>\n",
              "      <td>9.8</td>\n",
              "      <td>1</td>\n",
              "    </tr>\n",
              "    <tr>\n",
              "      <th>4</th>\n",
              "      <td>11.2</td>\n",
              "      <td>0.28</td>\n",
              "      <td>0.56</td>\n",
              "      <td>1.9</td>\n",
              "      <td>0.075</td>\n",
              "      <td>17.0</td>\n",
              "      <td>60.0</td>\n",
              "      <td>0.9980</td>\n",
              "      <td>3.16</td>\n",
              "      <td>0.58</td>\n",
              "      <td>9.8</td>\n",
              "      <td>0</td>\n",
              "    </tr>\n",
              "    <tr>\n",
              "      <th>5</th>\n",
              "      <td>7.4</td>\n",
              "      <td>0.70</td>\n",
              "      <td>0.00</td>\n",
              "      <td>1.9</td>\n",
              "      <td>0.076</td>\n",
              "      <td>11.0</td>\n",
              "      <td>34.0</td>\n",
              "      <td>0.9978</td>\n",
              "      <td>3.51</td>\n",
              "      <td>0.56</td>\n",
              "      <td>9.4</td>\n",
              "      <td>1</td>\n",
              "    </tr>\n",
              "  </tbody>\n",
              "</table>\n",
              "</div>"
            ],
            "text/plain": [
              "   fixed.acidity  volatile.acidity  citric.acid  ...  sulphates  alcohol  quality\n",
              "1            7.4              0.70         0.00  ...       0.56      9.4        1\n",
              "2            7.8              0.88         0.00  ...       0.68      9.8        1\n",
              "3            7.8              0.76         0.04  ...       0.65      9.8        1\n",
              "4           11.2              0.28         0.56  ...       0.58      9.8        0\n",
              "5            7.4              0.70         0.00  ...       0.56      9.4        1\n",
              "\n",
              "[5 rows x 12 columns]"
            ]
          },
          "metadata": {
            "tags": []
          },
          "execution_count": 46
        }
      ]
    },
    {
      "cell_type": "markdown",
      "metadata": {
        "id": "lasting-atlas"
      },
      "source": [
        "**Задание 2.** Разделите признаки и целевую переменную. Разделите выборку на тренировочную и тестовую, долю тестовой выборки укажите равной 0.3. При помощи `StandardScaler` отмасштабируйте тренировочную и тестовую выборки. "
      ],
      "id": "lasting-atlas"
    },
    {
      "cell_type": "code",
      "metadata": {
        "id": "organized-garage"
      },
      "source": [
        "from sklearn.model_selection import train_test_split\n",
        "from sklearn.preprocessing import StandardScaler"
      ],
      "id": "organized-garage",
      "execution_count": null,
      "outputs": []
    },
    {
      "cell_type": "code",
      "metadata": {
        "id": "administrative-class"
      },
      "source": [
        "np.random.seed(123)\r\n",
        "X_train, X_test, y_train, y_test = train_test_split(data.drop('quality', axis=1), data['quality'])\r\n",
        "ss = StandardScaler()\r\n",
        "X_train = ss.fit_transform(X_train)\r\n",
        "X_test = ss.transform(X_test)"
      ],
      "id": "administrative-class",
      "execution_count": 47,
      "outputs": []
    },
    {
      "cell_type": "markdown",
      "metadata": {
        "id": "southern-poetry"
      },
      "source": [
        "**Задание 3.** При помощи кросс-валидации (параметры выберите сами) подберите оптимальные значения коэффициентов регуляризации для логистической регрессии и SVM с линейным ядром. Обучите модели с этими параметрами. Убедитесь, что доля правильных ответов – не лучший вариант для нашей задачи и рассчитайте F-меру на тестовой выборке. Какой алгоритм показал себя лучше? \n",
        "\n",
        " **Бонус для самых отважных:** качество работы SVM можно улучшить за счёт применения ядер, после чего разделяющая поверхность становится нелинейной. Если вам интересно, попросите семинариста рассказать об этом подробнее.  "
      ],
      "id": "southern-poetry"
    },
    {
      "cell_type": "code",
      "metadata": {
        "id": "driving-soldier",
        "outputId": "6a90d810-390a-40b8-c4a6-a56d77299643",
        "colab": {
          "base_uri": "https://localhost:8080/"
        }
      },
      "source": [
        "from sklearn.model_selection import cross_validate\n",
        "\n",
        "scores_lr = []\n",
        "scores_svm = []\n",
        "\n",
        "for c in np.arange(0.1, 10, 1):\n",
        "    lr = LogisticRegression(C = c)\n",
        "    svm = SVC(C = c)\n",
        "    \n",
        "    cv_lr = cross_validate(lr, X_train, y_train, cv = 5, scoring=('f1'))['test_score']\n",
        "    cv_svm = cross_validate(svm, X_train, y_train, cv = 5, scoring=('f1'))['test_score']\n",
        "    scores_lr.append(cv_lr.mean())\n",
        "    scores_svm.append(cv_svm.mean())\n",
        "\n",
        "print(scores_lr)\n",
        "print(scores_svm)"
      ],
      "id": "driving-soldier",
      "execution_count": 50,
      "outputs": [
        {
          "output_type": "stream",
          "text": [
            "[0.6946629374715164, 0.6876740983177151, 0.6864032249617229, 0.6856864198644422, 0.6856864198644422, 0.6856864198644422, 0.6856864198644422, 0.6856864198644422, 0.6856864198644422, 0.6856864198644422]\n",
            "[0.696724276298043, 0.7113670851603654, 0.7049160121638255, 0.7099207978223763, 0.7053164491499074, 0.7052959085964694, 0.7022116307561349, 0.7081257707981041, 0.7095594824034871, 0.7080457210032198]\n"
          ],
          "name": "stdout"
        }
      ]
    },
    {
      "cell_type": "code",
      "metadata": {
        "id": "environmental-region"
      },
      "source": [
        ""
      ],
      "id": "environmental-region",
      "execution_count": null,
      "outputs": []
    },
    {
      "cell_type": "markdown",
      "metadata": {
        "id": "initial-stretch"
      },
      "source": [
        "### ROC-кривая"
      ],
      "id": "initial-stretch"
    },
    {
      "cell_type": "markdown",
      "metadata": {
        "id": "humanitarian-nepal"
      },
      "source": [
        "Ранее мы узнали, что помимо accuracy в задачах классификации так же используются precision, recall и f-мера. Теперь пришло время познакомиться с ещё одной метрикой – ROC AUC.\n",
        "\n",
        "Для начала вспомним, что мы работаем с матрицей ошибок:\n",
        "\n",
        "|       | alg = 1          | alg = -1    |\n",
        "|-------| -----------------|-------------|\n",
        "|y = 1  |TP                |FN           |\n",
        "|y = -1 |FP                | TN          |\n",
        "\n",
        "Определим следующие величины:\n",
        "\n",
        "$$\n",
        "TPR \\text{ (true positive rate, recall, sensitivity)} = \\dfrac{TP}{TP + FN} –\n",
        "$$\n",
        "доля правильно предсказанных объектов положительного класса.\n",
        "\n",
        "$$\n",
        "FPR \\text{ (false positive rate, 1 - specificity)} = \\dfrac{FP}{FP + TN} –\n",
        "$$\n",
        "доля неправильно предсказанных объектов отрицательного класса.\n",
        "\n",
        "Рассмотрим задачу мягкой классификации: мы предказываем вероятности принадлежности наблюдения к положительному и отрицательному классам. Тогда TPR и FPR будут зависеть от порога для вероятности, выше которого наблюдение будет отнесено к положительному классу. ROC-кривая строится в координатах $(FPR, TPR)$ и показывает комбинации TPR и FPR при всевозможных значениях порога. \n",
        "\n",
        "Для хорошего классификатора эта кривая является вогнутой, а для идеального классификатора она будет проходить через точку $(0, 1)$ (почему?).\n",
        "\n",
        "[<img src=\"https://upload.wikimedia.org/wikipedia/commons/6/6b/Roccurves.png\" alt=\"drawing\" width=\"350\"/>](https://ru.wikipedia.org/wiki/ROC-кривая)\n",
        "\n",
        "\n",
        "\n",
        "**Задание 1.** Постройте ROC-кривую для следующей выборки."
      ],
      "id": "humanitarian-nepal"
    },
    {
      "cell_type": "code",
      "metadata": {
        "id": "frequent-chemistry"
      },
      "source": [
        "# True labels\n",
        "y = [-1, 1, 1, -1, 1, 1]\n",
        "# Predicted labels\n",
        "p = [0.5, 0.1, 0.2, 0.9, 0.7, 0.1]"
      ],
      "id": "frequent-chemistry",
      "execution_count": 51,
      "outputs": []
    },
    {
      "cell_type": "markdown",
      "metadata": {
        "id": "growing-gibraltar"
      },
      "source": [
        "**Решение:**\n",
        "1. Упорядочим наблюдения по убыванию ответов алгоритма."
      ],
      "id": "growing-gibraltar"
    },
    {
      "cell_type": "code",
      "metadata": {
        "id": "editorial-messaging"
      },
      "source": [
        "y = [1, 1, 1, -1, 1, -1]\n",
        "p = [0.1, 0.1, 0.2, 0.5, 0.7, 0.9]"
      ],
      "id": "editorial-messaging",
      "execution_count": 52,
      "outputs": []
    },
    {
      "cell_type": "markdown",
      "metadata": {
        "id": "latter-portrait"
      },
      "source": [
        "2. Разобьём единичный квадрат на $(m, n)$ частей, где $m$ – число 1 в $y$, $n$ – число нулей. Стартуем из точки $(0, 0)$. Если значение $y$ равно 1, делаем шаг вверх, а если -1 – вправо. Понятно, что конечная точка нашего маршрута – точка $(1, 1)$.\n",
        "\n",
        "**(Попросите семинариста нарисовать это)**. \n",
        "\n",
        "**Важный момент:** если у нескольких объектов значения предсказаний равны, а $y$ – различны, то мы должны сделать ход \"по диагонали\". \n",
        "\n",
        "**(Попросите семинариста нарисовать это)**. "
      ],
      "id": "latter-portrait"
    },
    {
      "cell_type": "markdown",
      "metadata": {
        "id": "assured-algorithm"
      },
      "source": [
        "3. Полученная кривая и является ROC-кривой. \n",
        "\n",
        "**(Почему этот алгоритм имеет смысл?)**"
      ],
      "id": "assured-algorithm"
    },
    {
      "cell_type": "markdown",
      "metadata": {
        "id": "based-warehouse"
      },
      "source": [
        "**Задание 2.** ROC AUC – площадь под ROC-кривой – равна доле пар наблюдений $(y = 1, y = -1)$, которые алгоритм верно упорядочил. Таким образом, чем больше ROC AUC, тем качественнее отработал классификатор. Вычислите ROC AUC для построенной ROC-кривой. "
      ],
      "id": "based-warehouse"
    },
    {
      "cell_type": "markdown",
      "metadata": {
        "id": "certain-medicaid"
      },
      "source": [
        "**Задание 3.** Как выглядит ROC-кривая для случайного классификатора? \n",
        "\n",
        "**Задание 4.** Как по ROC-кривой выбрать порог для бинаризации?"
      ],
      "id": "certain-medicaid"
    },
    {
      "cell_type": "markdown",
      "metadata": {
        "id": "tWyp3xZo5yxt"
      },
      "source": [
        "![sphx_glr_plot_roc_001.png](data:image/png;base64,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)"
      ],
      "id": "tWyp3xZo5yxt"
    },
    {
      "cell_type": "markdown",
      "metadata": {
        "id": "silent-hungarian"
      },
      "source": [
        "В `sklearn` реализовано вычисление значений ROC-кривой и площади под ней. "
      ],
      "id": "silent-hungarian"
    },
    {
      "cell_type": "code",
      "metadata": {
        "id": "extra-dubai"
      },
      "source": [
        "from sklearn.metrics import roc_curve, auc"
      ],
      "id": "extra-dubai",
      "execution_count": 54,
      "outputs": []
    },
    {
      "cell_type": "markdown",
      "metadata": {
        "id": "interested-wrist"
      },
      "source": [
        "**Задание 5.** Постройте ROC-кривую и рассчитайте площадь под ней для логистической регрессии. О чём говорит такая форма кривой? Чтобы показать это, постройте pairplot данных."
      ],
      "id": "interested-wrist"
    },
    {
      "cell_type": "code",
      "metadata": {
        "id": "latter-lemon"
      },
      "source": [
        "lr = LogisticRegression()\n",
        "lr.fit(X_train, y_train)\n",
        "tpr, fpr, _ = roc_curve(y_train, lr.predict_proba(X_train)[:, 1])"
      ],
      "id": "latter-lemon",
      "execution_count": 55,
      "outputs": []
    },
    {
      "cell_type": "code",
      "metadata": {
        "id": "understood-criterion",
        "outputId": "c698ece6-68a6-4969-ec59-1a54ad102fda",
        "colab": {
          "base_uri": "https://localhost:8080/",
          "height": 282
        }
      },
      "source": [
        "plt.plot(fpr, tpr)"
      ],
      "id": "understood-criterion",
      "execution_count": 56,
      "outputs": [
        {
          "output_type": "execute_result",
          "data": {
            "text/plain": [
              "[<matplotlib.lines.Line2D at 0x7f5c62c01b10>]"
            ]
          },
          "metadata": {
            "tags": []
          },
          "execution_count": 56
        },
        {
          "output_type": "display_data",
          "data": {
            "image/png": "[encoded data removed]",
            "text/plain": [
              "<Figure size 432x288 with 1 Axes>"
            ]
          },
          "metadata": {
            "tags": [],
            "needs_background": "light"
          }
        }
      ]
    },
    {
      "cell_type": "code",
      "metadata": {
        "id": "shared-martin",
        "outputId": "07082a9a-3f18-4c96-f126-a311baedb746",
        "colab": {
          "base_uri": "https://localhost:8080/"
        }
      },
      "source": [
        "auc(fpr, tpr) # площадь"
      ],
      "id": "shared-martin",
      "execution_count": 57,
      "outputs": [
        {
          "output_type": "execute_result",
          "data": {
            "text/plain": [
              "0.1850821017126839"
            ]
          },
          "metadata": {
            "tags": []
          },
          "execution_count": 57
        }
      ]
    },
    {
      "cell_type": "markdown",
      "metadata": {
        "id": "advance-interest"
      },
      "source": [
        "### Бонус для самых смелых: вывод логистической регрессии через правдоподобие\n",
        "\n",
        "Перекодируем $y$ так, что её возможные значения – это 0 и 1. Теперь $y$ является случайной величиной из распределения Бернулли. Тогда сигмоида задаёт условную вероятность принадлежности $y$ к положительному классу:\n",
        "\n",
        "$$\n",
        "P(y_i = 1 | x_i, w) = \\sigma(x_i, w).\n",
        "$$\n",
        "\n",
        "Будем оценку коэффициентов $w$ при помощи метода максимального правдоподобия.\n",
        "\n",
        "$$\n",
        "\\mathcal{L} = \\sigma(x_i, w)^{\\sum_i y_i}(1 - \\sigma(x_i, w))^{\\sum_i 1 - y_i}\n",
        "$$\n",
        "\n",
        "Логарифмируем:\n",
        "\n",
        "$$\n",
        "\\mathcal{l} = \\sum_i y_i \\log\\sigma(x_i, w) + (1 - y_i)(1 - \\log\\sigma(x_i, w))\n",
        "$$\n",
        "\n",
        "Если теперь взять среднее, то мы получим log-loss, взятый со знаком минус. Таким образом, минимизация функции потерь в логистической регрессии эквивалентна  максимизации правдоподобия в задаче нахождения оценок $w$!"
      ],
      "id": "advance-interest"
    }
  ]
}