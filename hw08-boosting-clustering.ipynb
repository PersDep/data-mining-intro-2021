{
  "nbformat": 4,
  "nbformat_minor": 0,
  "metadata": {
    "kernelspec": {
      "display_name": "Python 3",
      "language": "python",
      "name": "python3"
    },
    "language_info": {
      "codemirror_mode": {
        "name": "ipython",
        "version": 3
      },
      "file_extension": ".py",
      "mimetype": "text/x-python",
      "name": "python",
      "nbconvert_exporter": "python",
      "pygments_lexer": "ipython3",
      "version": "3.6.3"
    },
    "colab": {
      "name": "hw8-boosting-clustering.ipynb",
      "provenance": [],
      "collapsed_sections": [],
      "toc_visible": true
    }
  },
  "cells": [
    {
      "cell_type": "markdown",
      "metadata": {
        "id": "IHgmxWG_7lnE"
      },
      "source": [
        "# Введение в анализ данных\n",
        "## НИУ ВШЭ, 2020-2021 учебный год\n",
        "\n",
        "### Домашнее задание №8"
      ]
    },
    {
      "cell_type": "code",
      "metadata": {
        "id": "GOqjUI6igeLc"
      },
      "source": [
        "import numpy as np\n",
        "from sklearn.datasets import load_boston\n",
        "from sklearn.model_selection import train_test_split\n",
        "from sklearn.tree import DecisionTreeClassifier, DecisionTreeRegressor\n",
        "from sklearn.metrics import accuracy_score, precision_score, recall_score, roc_auc_score, mean_squared_error"
      ],
      "execution_count": 4,
      "outputs": []
    },
    {
      "cell_type": "markdown",
      "metadata": {
        "id": "-tKaz0okgeLh"
      },
      "source": [
        "## Градиентный бустинг своими руками (1 + 3* баллов)\n",
        "\n",
        "Реализуйте алгоритм градиентного бустинга для регрессии. Напомним основные формулы.\n",
        "\n",
        "Обозначим текущую композицию на $N-1$ шаге за $a_{N - 1}(x_i)$. Следующий базовый алгоритм $b_N(x_i)$ обучается на ответах $-\\frac{\\partial L(y_i, z)}{\\partial z}\\Bigl|_{z = a_{N - 1}(x_i)}$, где $L(y_i, z)$ — значение функции потерь на объекте при правильном ответе $y_i$ и предсказании $z$. Композиция на следующем шаге получается следующим образом:\n",
        "\n",
        "$$\n",
        "a_N(x_i) = a_{N-1}(x_i) + \\nu\\gamma_Nb_N(x_i)\n",
        "$$\n",
        "\n",
        "Здесь $\\nu$ — гиперпараметр learning rate, $\\gamma_N$ — оптимальный вес, настраиваемый на каждом шаге алгоритма, который можно найти по следующей формуле (обратите внимание на отсутствие $\\nu$):\n",
        "\n",
        "$$\n",
        "\\gamma_N = \\mathrm{arg}\\min_\\gamma \\frac{1}{\\ell}\\sum\\limits_{i=1}^{\\ell}L\\left(y_i, a_{N - 1}(x_i) + \\gamma b_N(x_i)\\right)\n",
        "$$\n",
        "\n",
        "Можете принять $\\gamma_N = 1$ для каждого $N$. Однако чтобы получить дополнительный 1 балл вам нужно реализовать нахождение оптимального $\\gamma_N$ на каждом шаге.\n",
        "\n",
        "В качестве функции потерь возьмите MSE.\n",
        "\n",
        "*Примечание. Вы можете использовать `DecisionTree` из `sklearn` и методы оптимизации из различных библиотек.*"
      ]
    },
    {
      "cell_type": "code",
      "metadata": {
        "id": "Eu_ZIF9YgeLi"
      },
      "source": [
        "# это может помочь вам для поиска оптимальных gamma\n",
        "\n",
        "from scipy.optimize import minimize"
      ],
      "execution_count": null,
      "outputs": []
    },
    {
      "cell_type": "code",
      "metadata": {
        "id": "ZB5Yt-LKgeLi"
      },
      "source": [
        "class GradientBoosting:\n",
        "    def __init__(self, n_estimators, max_depth, learning_rate=0.1):\n",
        "        \"\"\"\n",
        "        PARAMETERS:\n",
        "        n_estimators - number of trees in the ensemble\n",
        "        max_depth - maximum depth of a tree\n",
        "        learning_rate - coefficient by which new algorithm result is multiplied\n",
        "        \"\"\"\n",
        "        \n",
        "        pass\n",
        "        \n",
        "    def fit(self, X_train, y_train):\n",
        "        \"\"\"\n",
        "        INPUT:\n",
        "        X_train - np.array of shape (k, d)\n",
        "        y_train - np.array of shape (k,)\n",
        "        \"\"\"\n",
        "        pass\n",
        "        \n",
        "    def predict(self, X_test):\n",
        "        \"\"\"\n",
        "        INPUT:\n",
        "        X_test - np.array of shape (m, d)\n",
        "        \n",
        "        OUTPUT:\n",
        "        y_pred - np.array of shape (m,)\n",
        "        \"\"\"\n",
        "        return y_pred"
      ],
      "execution_count": null,
      "outputs": []
    },
    {
      "cell_type": "markdown",
      "metadata": {
        "id": "7z-8PafFgeLj"
      },
      "source": [
        "Проверьте вашу реализацию на Boston dataset. Подберите оптимальные гиперпараметры, чтобы победить RandomForestRegressor как в обычном случае, так и при нахождении оптимального шага **(не меняйте параметры сида)**. При необходимости воспользуйтесь GridSearch. За это вы получите ещё 2 дополнительных балла."
      ]
    },
    {
      "cell_type": "code",
      "metadata": {
        "id": "0rxKS85vgeLj"
      },
      "source": [
        "boston = load_boston()\n",
        "X = boston.data\n",
        "y = boston.target\n",
        "X_train, X_test, y_train, y_test = train_test_split(X, y, test_size=0.25, random_state=13)"
      ],
      "execution_count": 5,
      "outputs": []
    },
    {
      "cell_type": "code",
      "metadata": {
        "id": "dAOaQK2a2N4p"
      },
      "source": [
        "from sklearn.ensemble import RandomForestRegressor\n",
        "\n",
        "rf = RandomForestRegressor(max_features=4, n_estimators=640, random_state=19052019)\n",
        "\n",
        "rf.fit(X_train, y_train)\n",
        "mean_squared_error(y_test, rf.predict(X_test))"
      ],
      "execution_count": null,
      "outputs": []
    },
    {
      "cell_type": "code",
      "metadata": {
        "id": "_gt3vn0IgeLk"
      },
      "source": [
        "np.random.seed(19052019)\n",
        "\n",
        "# your code here"
      ],
      "execution_count": null,
      "outputs": []
    },
    {
      "cell_type": "code",
      "metadata": {
        "id": "hLasKyLXgeLk"
      },
      "source": [
        "mean_squared_error(y_test, y_pred)"
      ],
      "execution_count": null,
      "outputs": []
    },
    {
      "cell_type": "markdown",
      "metadata": {
        "id": "bCWou8xPgeLl"
      },
      "source": [
        "Для удобства проверяющего укажите, пожалуйста, реализовали ли вы нахождение оптимального шага?\n",
        "\n",
        "- Да / Нет"
      ]
    },
    {
      "cell_type": "markdown",
      "metadata": {
        "id": "PgCTG0lbO1mK"
      },
      "source": [
        "## Прогнозируем задержки самолётов (2 балла)"
      ]
    },
    {
      "cell_type": "markdown",
      "metadata": {
        "id": "ZVZibhKiM3j4"
      },
      "source": [
        "Поработаем с задачей про задержки самолётов. На основании доступных данных о рейсе вам нужно определить, будет ли он задержан на 15 минут.\n",
        "Воспользуйтесь любыми методами градиентного бустинга {XGboost, catboost, LightGBM} и GridSearch для достижения результата. Получите 1 балл за преодоление порога roc_auc_score 0.72 и ещё 1 балл за преодоление порога 0.74."
      ]
    },
    {
      "cell_type": "code",
      "metadata": {
        "id": "WuwqUkrfM3UI"
      },
      "source": [
        "train = pd.read_csv('https://raw.githubusercontent.com/PersDep/data-mining-intro-2021/main/hw08-boosting-clustering/flight_delays_train.csv')\n",
        "test = pd.read_csv('https://raw.githubusercontent.com/PersDep/data-mining-intro-2021/main/hw08-boosting-clustering/flight_delays_test.csv')"
      ],
      "execution_count": null,
      "outputs": []
    },
    {
      "cell_type": "code",
      "metadata": {
        "colab": {
          "base_uri": "https://localhost:8080/",
          "height": 203
        },
        "id": "af-whZAeNz5f",
        "outputId": "58fa5a63-510a-41d4-c759-eeb74e81ea9a"
      },
      "source": [
        "train.head()"
      ],
      "execution_count": null,
      "outputs": [
        {
          "output_type": "execute_result",
          "data": {
            "text/html": [
              "<div>\n",
              "<style scoped>\n",
              "    .dataframe tbody tr th:only-of-type {\n",
              "        vertical-align: middle;\n",
              "    }\n",
              "\n",
              "    .dataframe tbody tr th {\n",
              "        vertical-align: top;\n",
              "    }\n",
              "\n",
              "    .dataframe thead th {\n",
              "        text-align: right;\n",
              "    }\n",
              "</style>\n",
              "<table border=\"1\" class=\"dataframe\">\n",
              "  <thead>\n",
              "    <tr style=\"text-align: right;\">\n",
              "      <th></th>\n",
              "      <th>Month</th>\n",
              "      <th>DayofMonth</th>\n",
              "      <th>DayOfWeek</th>\n",
              "      <th>DepTime</th>\n",
              "      <th>UniqueCarrier</th>\n",
              "      <th>Origin</th>\n",
              "      <th>Dest</th>\n",
              "      <th>Distance</th>\n",
              "      <th>dep_delayed_15min</th>\n",
              "    </tr>\n",
              "  </thead>\n",
              "  <tbody>\n",
              "    <tr>\n",
              "      <th>0</th>\n",
              "      <td>c-8</td>\n",
              "      <td>c-21</td>\n",
              "      <td>c-7</td>\n",
              "      <td>1934</td>\n",
              "      <td>AA</td>\n",
              "      <td>ATL</td>\n",
              "      <td>DFW</td>\n",
              "      <td>732</td>\n",
              "      <td>N</td>\n",
              "    </tr>\n",
              "    <tr>\n",
              "      <th>1</th>\n",
              "      <td>c-4</td>\n",
              "      <td>c-20</td>\n",
              "      <td>c-3</td>\n",
              "      <td>1548</td>\n",
              "      <td>US</td>\n",
              "      <td>PIT</td>\n",
              "      <td>MCO</td>\n",
              "      <td>834</td>\n",
              "      <td>N</td>\n",
              "    </tr>\n",
              "    <tr>\n",
              "      <th>2</th>\n",
              "      <td>c-9</td>\n",
              "      <td>c-2</td>\n",
              "      <td>c-5</td>\n",
              "      <td>1422</td>\n",
              "      <td>XE</td>\n",
              "      <td>RDU</td>\n",
              "      <td>CLE</td>\n",
              "      <td>416</td>\n",
              "      <td>N</td>\n",
              "    </tr>\n",
              "    <tr>\n",
              "      <th>3</th>\n",
              "      <td>c-11</td>\n",
              "      <td>c-25</td>\n",
              "      <td>c-6</td>\n",
              "      <td>1015</td>\n",
              "      <td>OO</td>\n",
              "      <td>DEN</td>\n",
              "      <td>MEM</td>\n",
              "      <td>872</td>\n",
              "      <td>N</td>\n",
              "    </tr>\n",
              "    <tr>\n",
              "      <th>4</th>\n",
              "      <td>c-10</td>\n",
              "      <td>c-7</td>\n",
              "      <td>c-6</td>\n",
              "      <td>1828</td>\n",
              "      <td>WN</td>\n",
              "      <td>MDW</td>\n",
              "      <td>OMA</td>\n",
              "      <td>423</td>\n",
              "      <td>Y</td>\n",
              "    </tr>\n",
              "  </tbody>\n",
              "</table>\n",
              "</div>"
            ],
            "text/plain": [
              "  Month DayofMonth DayOfWeek  DepTime  ... Origin Dest Distance  dep_delayed_15min\n",
              "0   c-8       c-21       c-7     1934  ...    ATL  DFW      732                  N\n",
              "1   c-4       c-20       c-3     1548  ...    PIT  MCO      834                  N\n",
              "2   c-9        c-2       c-5     1422  ...    RDU  CLE      416                  N\n",
              "3  c-11       c-25       c-6     1015  ...    DEN  MEM      872                  N\n",
              "4  c-10        c-7       c-6     1828  ...    MDW  OMA      423                  Y\n",
              "\n",
              "[5 rows x 9 columns]"
            ]
          },
          "metadata": {
            "tags": []
          },
          "execution_count": 15
        }
      ]
    },
    {
      "cell_type": "code",
      "metadata": {
        "id": "v5a3DGydN7eu"
      },
      "source": [
        "# Референс\n",
        "\n",
        "from xgboost.sklearn import XGBClassifier\n",
        "\n",
        "X_train = train[['Distance', 'DepTime']].values\n",
        "y_train = train['dep_delayed_15min'].map({'Y': 1, 'N': 0}).values\n",
        "X_test = test[['Distance', 'DepTime']].values\n",
        "X_train_part, X_valid, y_train_part, y_valid = train_test_split(X_train, y_train, test_size=0.3)\n",
        "\n",
        "xgb = XGBClassifier()\n",
        "xgb_model.fit(X_train_part, y_train_part)\n",
        "roc_auc_score(y_valid, xgb_model.predict_proba(X_valid)[:, 1])"
      ],
      "execution_count": null,
      "outputs": []
    },
    {
      "cell_type": "code",
      "metadata": {
        "id": "SEeP9QZ3QtLr"
      },
      "source": [
        "# your code here"
      ],
      "execution_count": null,
      "outputs": []
    },
    {
      "cell_type": "markdown",
      "metadata": {
        "id": "mDmcF1cP2bDe"
      },
      "source": [
        "## DBSCAN своими руками (2 + 2* баллов)"
      ]
    },
    {
      "cell_type": "markdown",
      "metadata": {
        "id": "poDad0E52ii1"
      },
      "source": [
        "DBSCAN: Density-based spatial clustering of applications with noise\n",
        "\n",
        "Реализуйте класс dbscan.\n",
        "\n",
        "Алгоритм имеет два основных гиперпараметра:\n",
        "1. `eps` &mdash; радиус рассматриваемой окрестности\n",
        "2. `min_samples` &mdash; число соседей в окрестности\n",
        "\n",
        "Для выполнения кластеризации DBSCAN точки делятся на основные точки, достижимые по плотности точки и выпадающие следующим образом:\n",
        "\n",
        "- Точка $p$ является основной точкой, если по меньшей мере `min_samples` точек находятся на расстоянии, не превосходящем \n",
        "`eps` от неё. Говорят, что эти точки достижимы прямо из $p$.\n",
        "\n",
        "-  Точка $q$ прямо достижима из $p$, если точка $q$ находится на расстоянии, не большем `eps`, от точки $p$, и $p$ — основная точка.\n",
        "Точка $q$ достижима из $p$, если имеется путь \n",
        "$p_1,…,p_n$ где $p_1=p$ и $p_n=q$ , а каждая точка $p_{i+1}$ достижима прямо из $p_i$ (все точки на пути должны быть основными, за исключением $q$).\n",
        "\n",
        "Все точки, не достижимые из основных точек, считаются выбросами.\n",
        "\n",
        "Теперь, если $p$ является основной точкой, то она формирует кластер вместе со всеми точками (основными или неосновными), достижимыми из этой точки. Каждый кластер содержит по меньшей мере одну основную точку. Неосновные точки могут быть частью кластера, но они формируют его «край», поскольку не могут быть использованы для достижения других точек.\n"
      ]
    },
    {
      "cell_type": "code",
      "metadata": {
        "id": "czgUIv2E3GBm"
      },
      "source": [
        "class dbscan:\n",
        "    def __init__(self, eps, min_samples):\n",
        "        # your code here\n",
        "        \n",
        "    def fit_predict(self, X):        \n",
        "        # your code here\n",
        "    \n",
        "    def rangeQuery(self, x):\n",
        "        \"\"\"Возвращаем точки на расстоянии <= epsilon от x\"\"\"\n",
        "        # your code here\n",
        "    \n",
        "    def dist(self, point1, point2):\n",
        "        \"\"\"Метрика расстояния\"\"\"\n",
        "        # your code here"
      ],
      "execution_count": null,
      "outputs": []
    },
    {
      "cell_type": "markdown",
      "metadata": {
        "id": "lmI34EpRCLD9"
      },
      "source": [
        "Проверим себя на простом примере:"
      ]
    },
    {
      "cell_type": "code",
      "metadata": {
        "colab": {
          "base_uri": "https://localhost:8080/",
          "height": 265
        },
        "id": "EFABkOA73JC6",
        "outputId": "383471d1-6511-41b4-bd19-ef0401bf417e"
      },
      "source": [
        "from sklearn.datasets import make_moons\n",
        "import matplotlib.pyplot as plt\n",
        "import pandas as pd\n",
        "\n",
        "X, _ = make_moons(n_samples=500, noise=0.1)\n",
        "plt.scatter(X[:,0], X[:,1])\n",
        "plt.show()"
      ],
      "execution_count": 10,
      "outputs": [
        {
          "output_type": "display_data",
          "data": {
            "image/png": "[encoded data removed]",
            "text/plain": [
              "<Figure size 432x288 with 1 Axes>"
            ]
          },
          "metadata": {
            "tags": [],
            "needs_background": "light"
          }
        }
      ]
    },
    {
      "cell_type": "markdown",
      "metadata": {
        "id": "NCgWZPMwCycn"
      },
      "source": [
        "Кластеризуйте это с помощью своей версии DBSCAN:"
      ]
    },
    {
      "cell_type": "code",
      "metadata": {
        "id": "dMtgyZMR4h0a"
      },
      "source": [
        "clusters = dbscan(X, epsilon=0.2, min_points=10).fit_predict()\n",
        "\n",
        "plt.scatter(X[:,0], X[:,1], c=clusters)\n",
        "plt.show()"
      ],
      "execution_count": null,
      "outputs": []
    },
    {
      "cell_type": "markdown",
      "metadata": {
        "id": "OY_xo0uRC6lt"
      },
      "source": [
        "Референс:"
      ]
    },
    {
      "cell_type": "code",
      "metadata": {
        "colab": {
          "base_uri": "https://localhost:8080/",
          "height": 265
        },
        "id": "QtEwI8mb_lLV",
        "outputId": "90696cf9-f4bf-4588-df80-11173938e77b"
      },
      "source": [
        "from sklearn.cluster import DBSCAN\n",
        "\n",
        "clusters = DBSCAN(eps=0.2, min_samples=10).fit_predict(X)\n",
        "\n",
        "plt.scatter(X[:,0], X[:,1], c=clusters)\n",
        "plt.show()"
      ],
      "execution_count": 11,
      "outputs": [
        {
          "output_type": "display_data",
          "data": {
            "image/png": "[encoded data removed]",
            "text/plain": [
              "<Figure size 432x288 with 1 Axes>"
            ]
          },
          "metadata": {
            "tags": [],
            "needs_background": "light"
          }
        }
      ]
    },
    {
      "cell_type": "markdown",
      "metadata": {
        "id": "M6S5stsxDBps"
      },
      "source": [
        "Получите 1 дополнительный балл за ещё один интересный пример:"
      ]
    },
    {
      "cell_type": "code",
      "metadata": {
        "id": "iebozfLnDH4U"
      },
      "source": [
        "# your code here"
      ],
      "execution_count": null,
      "outputs": []
    },
    {
      "cell_type": "markdown",
      "metadata": {
        "id": "jZRxN-y1DKoA"
      },
      "source": [
        "Получите ещё 1 дополнительный балл, если скорость работы вашей версии меньше референсной не более чем на 20%:"
      ]
    },
    {
      "cell_type": "code",
      "metadata": {
        "id": "JjqYw7RSDkqd",
        "colab": {
          "base_uri": "https://localhost:8080/"
        },
        "outputId": "94d8c7ca-89f4-4fae-eadb-e531e417f018"
      },
      "source": [
        "%%time\n",
        "%%capture\n",
        "clusters = DBSCAN(eps=0.2, min_samples=10).fit_predict(X)"
      ],
      "execution_count": 12,
      "outputs": [
        {
          "output_type": "stream",
          "text": [
            "CPU times: user 8.94 ms, sys: 104 µs, total: 9.04 ms\n",
            "Wall time: 12.5 ms\n"
          ],
          "name": "stdout"
        }
      ]
    },
    {
      "cell_type": "code",
      "metadata": {
        "id": "pAeHvTniDtSB"
      },
      "source": [
        "%%time\n",
        "%%capture\n",
        "clusters = dbscan(eps=0.2, min_samples=10).fit_predict(X)"
      ],
      "execution_count": null,
      "outputs": []
    }
  ]
}